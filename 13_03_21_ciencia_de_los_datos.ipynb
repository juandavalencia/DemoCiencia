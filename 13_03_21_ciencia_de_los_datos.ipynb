{
  "nbformat": 4,
  "nbformat_minor": 0,
  "metadata": {
    "colab": {
      "name": "13-03-21 ciencia de los datos",
      "provenance": [],
      "authorship_tag": "ABX9TyPea56/Ieq/sQ5gXCz2scsq",
      "include_colab_link": true
    },
    "kernelspec": {
      "name": "python3",
      "display_name": "Python 3"
    }
  },
  "cells": [
    {
      "cell_type": "markdown",
      "metadata": {
        "id": "view-in-github",
        "colab_type": "text"
      },
      "source": [
        "<a href=\"https://colab.research.google.com/github/juandavalencia/DemoCiencia/blob/main/13_03_21_ciencia_de_los_datos.ipynb\" target=\"_parent\"><img src=\"https://colab.research.google.com/assets/colab-badge.svg\" alt=\"Open In Colab\"/></a>"
      ]
    },
    {
      "cell_type": "code",
      "metadata": {
        "id": "UzUlfX7BfkU5"
      },
      "source": [
        "txt = \"R is a free software environment for statistical computing and graphics. It compiles and runs on a wide variety of UNIX platforms, Windows and MacOS.To download R, please choose your preferred CRAN mirror. If you have questions about R like how to download and install the software, or what the license terms are, please read our answers to frequently asked questions before you send an email\""
      ],
      "execution_count": 4,
      "outputs": []
    },
    {
      "cell_type": "code",
      "metadata": {
        "colab": {
          "base_uri": "https://localhost:8080/"
        },
        "id": "oY6mHTLggb-T",
        "outputId": "67da3bb3-f7c2-42f4-e7d8-9cfbe50314b0"
      },
      "source": [
        "print (txt)"
      ],
      "execution_count": 5,
      "outputs": [
        {
          "output_type": "stream",
          "text": [
            "R is a free software environment for statistical computing and graphics. It compiles and runs on a wide variety of UNIX platforms, Windows and MacOS.To download R, please choose your preferred CRAN mirror. If you have questions about R like how to download and install the software, or what the license terms are, please read our answers to frequently asked questions before you send an email\n"
          ],
          "name": "stdout"
        }
      ]
    },
    {
      "cell_type": "code",
      "metadata": {
        "colab": {
          "base_uri": "https://localhost:8080/"
        },
        "id": "h73UawEkgeWo",
        "outputId": "96152669-dc68-4861-817a-182e3848228a"
      },
      "source": [
        "open(\"sample_data/wikipedia.txt\", \"w\").write(txt)"
      ],
      "execution_count": 6,
      "outputs": [
        {
          "output_type": "execute_result",
          "data": {
            "text/plain": [
              "392"
            ]
          },
          "metadata": {
            "tags": []
          },
          "execution_count": 6
        }
      ]
    },
    {
      "cell_type": "code",
      "metadata": {
        "colab": {
          "base_uri": "https://localhost:8080/",
          "height": 69
        },
        "id": "Ne-hob07hLFZ",
        "outputId": "c95aa326-a2b8-41f3-a34d-b43c581ff4d6"
      },
      "source": [
        "open ('sample_data/wikipedia.txt', 'r').read()\r\n"
      ],
      "execution_count": 7,
      "outputs": [
        {
          "output_type": "execute_result",
          "data": {
            "application/vnd.google.colaboratory.intrinsic+json": {
              "type": "string"
            },
            "text/plain": [
              "'R is a free software environment for statistical computing and graphics. It compiles and runs on a wide variety of UNIX platforms, Windows and MacOS.To download R, please choose your preferred CRAN mirror. If you have questions about R like how to download and install the software, or what the license terms are, please read our answers to frequently asked questions before you send an email'"
            ]
          },
          "metadata": {
            "tags": []
          },
          "execution_count": 7
        }
      ]
    },
    {
      "cell_type": "code",
      "metadata": {
        "colab": {
          "base_uri": "https://localhost:8080/",
          "height": 69
        },
        "id": "URy5u7NkhUFw",
        "outputId": "c0aa1efc-7ac5-44ed-9a64-76145ffee630"
      },
      "source": [
        "txt\r\n"
      ],
      "execution_count": 9,
      "outputs": [
        {
          "output_type": "execute_result",
          "data": {
            "application/vnd.google.colaboratory.intrinsic+json": {
              "type": "string"
            },
            "text/plain": [
              "'R is a free software environment for statistical computing and graphics. It compiles and runs on a wide variety of UNIX platforms, Windows and MacOS.To download R, please choose your preferred CRAN mirror. If you have questions about R like how to download and install the software, or what the license terms are, please read our answers to frequently asked questions before you send an email'"
            ]
          },
          "metadata": {
            "tags": []
          },
          "execution_count": 9
        }
      ]
    },
    {
      "cell_type": "code",
      "metadata": {
        "id": "xZ-D2AqLhZjA"
      },
      "source": [
        "f = open('demo.txt', 'w')"
      ],
      "execution_count": 11,
      "outputs": []
    },
    {
      "cell_type": "code",
      "metadata": {
        "id": "kwjeipEqhplH"
      },
      "source": [
        "print(\"Linea 1\", \"Linea 2\", \"Linea 3\", sep=\"\\n\", file=f)"
      ],
      "execution_count": 13,
      "outputs": []
    },
    {
      "cell_type": "code",
      "metadata": {
        "id": "vOIIMFJnh3PA"
      },
      "source": [
        "print(\"Linea 4\", file=f)\r\n",
        "print(\"Linea 5\", file=f)\r\n",
        "print(\"Linea 6\", file=f)"
      ],
      "execution_count": 14,
      "outputs": []
    },
    {
      "cell_type": "code",
      "metadata": {
        "colab": {
          "base_uri": "https://localhost:8080/"
        },
        "id": "SjzBckWsiVSg",
        "outputId": "584d113d-ca3d-4c19-9f85-b9051bab6168"
      },
      "source": [
        "f.write(\"Linea 7\")"
      ],
      "execution_count": 15,
      "outputs": [
        {
          "output_type": "execute_result",
          "data": {
            "text/plain": [
              "7"
            ]
          },
          "metadata": {
            "tags": []
          },
          "execution_count": 15
        }
      ]
    },
    {
      "cell_type": "code",
      "metadata": {
        "id": "njIG513biYVw"
      },
      "source": [
        "f.close()"
      ],
      "execution_count": 16,
      "outputs": []
    },
    {
      "cell_type": "code",
      "metadata": {
        "colab": {
          "base_uri": "https://localhost:8080/"
        },
        "id": "9dKRy8ARiadH",
        "outputId": "fd3b4a3f-d1c4-47ac-fd13-07dda1daf70a"
      },
      "source": [
        "!cat demo.txt"
      ],
      "execution_count": 17,
      "outputs": [
        {
          "output_type": "stream",
          "text": [
            "Linea 1\n",
            "Linea 2\n",
            "Linea 3\n",
            "Linea 4\n",
            "Linea 5\n",
            "Linea 6\n",
            "Linea 7"
          ],
          "name": "stdout"
        }
      ]
    },
    {
      "cell_type": "code",
      "metadata": {
        "colab": {
          "base_uri": "https://localhost:8080/",
          "height": 35
        },
        "id": "kl6F38Oyimbn",
        "outputId": "8ac68db1-0501-4d76-f34e-cfe05164317f"
      },
      "source": [
        "open (\"demo.txt\", \"r\").read()"
      ],
      "execution_count": 18,
      "outputs": [
        {
          "output_type": "execute_result",
          "data": {
            "application/vnd.google.colaboratory.intrinsic+json": {
              "type": "string"
            },
            "text/plain": [
              "'Linea 1\\nLinea 2\\nLinea 3\\nLinea 4\\nLinea 5\\nLinea 6\\nLinea 7'"
            ]
          },
          "metadata": {
            "tags": []
          },
          "execution_count": 18
        }
      ]
    },
    {
      "cell_type": "code",
      "metadata": {
        "colab": {
          "base_uri": "https://localhost:8080/"
        },
        "id": "xXTJcDcajIQR",
        "outputId": "bf316337-d5d1-47dd-fa52-90fde4f8a1fa"
      },
      "source": [
        "print(open(\"demo.txt\", \"r\").read())"
      ],
      "execution_count": 21,
      "outputs": [
        {
          "output_type": "stream",
          "text": [
            "Linea 1\n",
            "Linea 2\n",
            "Linea 3\n",
            "Linea 4\n",
            "Linea 5\n",
            "Linea 6\n",
            "Linea 7\n"
          ],
          "name": "stdout"
        }
      ]
    },
    {
      "cell_type": "code",
      "metadata": {
        "colab": {
          "base_uri": "https://localhost:8080/"
        },
        "id": "ulqHgropjaVo",
        "outputId": "ec401a16-82d8-44ff-c68b-6409277757aa"
      },
      "source": [
        "with open (\"demo.txt\", \"r\") as f:\r\n",
        "      print(f.read())"
      ],
      "execution_count": 22,
      "outputs": [
        {
          "output_type": "stream",
          "text": [
            "Linea 1\n",
            "Linea 2\n",
            "Linea 3\n",
            "Linea 4\n",
            "Linea 5\n",
            "Linea 6\n",
            "Linea 7\n"
          ],
          "name": "stdout"
        }
      ]
    },
    {
      "cell_type": "code",
      "metadata": {
        "colab": {
          "base_uri": "https://localhost:8080/"
        },
        "id": "NNnljA4ujqxP",
        "outputId": "0d3b8115-01cf-4e50-9a95-c23a945aafbd"
      },
      "source": [
        "f.closed"
      ],
      "execution_count": 23,
      "outputs": [
        {
          "output_type": "execute_result",
          "data": {
            "text/plain": [
              "True"
            ]
          },
          "metadata": {
            "tags": []
          },
          "execution_count": 23
        }
      ]
    },
    {
      "cell_type": "code",
      "metadata": {
        "colab": {
          "base_uri": "https://localhost:8080/"
        },
        "id": "SucWGjNljvTI",
        "outputId": "a802855a-1c1d-4a33-a69a-507b5b126d3b"
      },
      "source": [
        "with open (\"demo.txt\", \"r\") as f:\r\n",
        "      print(f.closed)\r\n",
        "print(f.closed)"
      ],
      "execution_count": 24,
      "outputs": [
        {
          "output_type": "stream",
          "text": [
            "False\n",
            "True\n"
          ],
          "name": "stdout"
        }
      ]
    },
    {
      "cell_type": "code",
      "metadata": {
        "colab": {
          "base_uri": "https://localhost:8080/"
        },
        "id": "A54o5m5kkBAH",
        "outputId": "8df30b20-c2ea-48f2-ad3d-89aa2ac4fc0b"
      },
      "source": [
        "f=open(\"demo.txt\", \"r\")\r\n",
        "x = list(f)\r\n",
        "f.close()\r\n",
        "x\r\n"
      ],
      "execution_count": 26,
      "outputs": [
        {
          "output_type": "execute_result",
          "data": {
            "text/plain": [
              "['Linea 1\\n',\n",
              " 'Linea 2\\n',\n",
              " 'Linea 3\\n',\n",
              " 'Linea 4\\n',\n",
              " 'Linea 5\\n',\n",
              " 'Linea 6\\n',\n",
              " 'Linea 7']"
            ]
          },
          "metadata": {
            "tags": []
          },
          "execution_count": 26
        }
      ]
    },
    {
      "cell_type": "code",
      "metadata": {
        "colab": {
          "base_uri": "https://localhost:8080/",
          "height": 35
        },
        "id": "L1qGYeYJkM2Y",
        "outputId": "fb2eca00-91d2-455b-e1bc-16c8ef64db16"
      },
      "source": [
        "f = open(\"demo.txt\", \"r\")\r\n",
        "f.readline()"
      ],
      "execution_count": 27,
      "outputs": [
        {
          "output_type": "execute_result",
          "data": {
            "application/vnd.google.colaboratory.intrinsic+json": {
              "type": "string"
            },
            "text/plain": [
              "'Linea 1\\n'"
            ]
          },
          "metadata": {
            "tags": []
          },
          "execution_count": 27
        }
      ]
    },
    {
      "cell_type": "code",
      "metadata": {
        "colab": {
          "base_uri": "https://localhost:8080/",
          "height": 35
        },
        "id": "Xc_BJOPZkvho",
        "outputId": "c17ec7de-526c-412d-b422-26355c773917"
      },
      "source": [
        "f.readline()\r\n"
      ],
      "execution_count": 28,
      "outputs": [
        {
          "output_type": "execute_result",
          "data": {
            "application/vnd.google.colaboratory.intrinsic+json": {
              "type": "string"
            },
            "text/plain": [
              "'Linea 2\\n'"
            ]
          },
          "metadata": {
            "tags": []
          },
          "execution_count": 28
        }
      ]
    },
    {
      "cell_type": "code",
      "metadata": {
        "colab": {
          "base_uri": "https://localhost:8080/",
          "height": 35
        },
        "id": "t0vcb68MlCQw",
        "outputId": "638a4fff-f244-49ff-ae98-eeb2818f63c4"
      },
      "source": [
        "f.readline()"
      ],
      "execution_count": 29,
      "outputs": [
        {
          "output_type": "execute_result",
          "data": {
            "application/vnd.google.colaboratory.intrinsic+json": {
              "type": "string"
            },
            "text/plain": [
              "'Linea 3\\n'"
            ]
          },
          "metadata": {
            "tags": []
          },
          "execution_count": 29
        }
      ]
    },
    {
      "cell_type": "code",
      "metadata": {
        "colab": {
          "base_uri": "https://localhost:8080/",
          "height": 35
        },
        "id": "yMnn917TlCx3",
        "outputId": "891a7162-81f0-48f8-ad6e-ea65c45bc71c"
      },
      "source": [
        "f.readline()"
      ],
      "execution_count": 30,
      "outputs": [
        {
          "output_type": "execute_result",
          "data": {
            "application/vnd.google.colaboratory.intrinsic+json": {
              "type": "string"
            },
            "text/plain": [
              "'Linea 4\\n'"
            ]
          },
          "metadata": {
            "tags": []
          },
          "execution_count": 30
        }
      ]
    },
    {
      "cell_type": "code",
      "metadata": {
        "colab": {
          "base_uri": "https://localhost:8080/",
          "height": 35
        },
        "id": "MPjDkUR4lDNH",
        "outputId": "c8b2f9d7-01da-435e-e4a5-743d14fc36dd"
      },
      "source": [
        "f.readline()"
      ],
      "execution_count": 31,
      "outputs": [
        {
          "output_type": "execute_result",
          "data": {
            "application/vnd.google.colaboratory.intrinsic+json": {
              "type": "string"
            },
            "text/plain": [
              "'Linea 5\\n'"
            ]
          },
          "metadata": {
            "tags": []
          },
          "execution_count": 31
        }
      ]
    },
    {
      "cell_type": "code",
      "metadata": {
        "colab": {
          "base_uri": "https://localhost:8080/",
          "height": 35
        },
        "id": "Ej2pZJChlDpn",
        "outputId": "745915ae-cd38-4e36-d85b-b4f5f71959d8"
      },
      "source": [
        "f.readline()"
      ],
      "execution_count": 32,
      "outputs": [
        {
          "output_type": "execute_result",
          "data": {
            "application/vnd.google.colaboratory.intrinsic+json": {
              "type": "string"
            },
            "text/plain": [
              "'Linea 6\\n'"
            ]
          },
          "metadata": {
            "tags": []
          },
          "execution_count": 32
        }
      ]
    },
    {
      "cell_type": "code",
      "metadata": {
        "colab": {
          "base_uri": "https://localhost:8080/",
          "height": 35
        },
        "id": "p-16hH4RlEHn",
        "outputId": "f475e25e-2922-4980-a987-cb78c20b98e8"
      },
      "source": [
        "f.readline()"
      ],
      "execution_count": 33,
      "outputs": [
        {
          "output_type": "execute_result",
          "data": {
            "application/vnd.google.colaboratory.intrinsic+json": {
              "type": "string"
            },
            "text/plain": [
              "'Linea 7'"
            ]
          },
          "metadata": {
            "tags": []
          },
          "execution_count": 33
        }
      ]
    },
    {
      "cell_type": "code",
      "metadata": {
        "colab": {
          "base_uri": "https://localhost:8080/",
          "height": 35
        },
        "id": "tVVJ478blEqH",
        "outputId": "4bcde56e-0e1e-4a1c-b642-02a676a5f12c"
      },
      "source": [
        "f.readline()"
      ],
      "execution_count": 34,
      "outputs": [
        {
          "output_type": "execute_result",
          "data": {
            "application/vnd.google.colaboratory.intrinsic+json": {
              "type": "string"
            },
            "text/plain": [
              "''"
            ]
          },
          "metadata": {
            "tags": []
          },
          "execution_count": 34
        }
      ]
    },
    {
      "cell_type": "code",
      "metadata": {
        "id": "CEfp1MSalF8p"
      },
      "source": [
        "f.close()"
      ],
      "execution_count": 35,
      "outputs": []
    },
    {
      "cell_type": "code",
      "metadata": {
        "colab": {
          "base_uri": "https://localhost:8080/"
        },
        "id": "CocCkuAclP5f",
        "outputId": "564db232-1479-4a95-f9f6-f616c6997688"
      },
      "source": [
        "f = open(\"demo.txt\", \"r\")\r\n",
        "\r\n",
        "for line in f:\r\n",
        "    print(line)\r\n",
        "\r\n",
        "f.close()"
      ],
      "execution_count": 36,
      "outputs": [
        {
          "output_type": "stream",
          "text": [
            "Linea 1\n",
            "\n",
            "Linea 2\n",
            "\n",
            "Linea 3\n",
            "\n",
            "Linea 4\n",
            "\n",
            "Linea 5\n",
            "\n",
            "Linea 6\n",
            "\n",
            "Linea 7\n"
          ],
          "name": "stdout"
        }
      ]
    },
    {
      "cell_type": "code",
      "metadata": {
        "id": "SgKuvtdpmdMY"
      },
      "source": [
        ""
      ],
      "execution_count": null,
      "outputs": []
    },
    {
      "cell_type": "code",
      "metadata": {
        "id": "nSAot2wQmmPN"
      },
      "source": [
        ""
      ],
      "execution_count": null,
      "outputs": []
    },
    {
      "cell_type": "code",
      "metadata": {
        "colab": {
          "base_uri": "https://localhost:8080/"
        },
        "id": "m4xzu85mmmX0",
        "outputId": "a2142170-923e-4d21-dcb4-41870e4a6e8d"
      },
      "source": [
        "%%writefile data.csv\r\n",
        "\"indice\", \"letra\", \"valor\"\r\n",
        "1,A,1000\r\n",
        "2,B,2000\r\n",
        "3,C,3000"
      ],
      "execution_count": 49,
      "outputs": [
        {
          "output_type": "stream",
          "text": [
            "Overwriting data.csv\n"
          ],
          "name": "stdout"
        }
      ]
    },
    {
      "cell_type": "code",
      "metadata": {
        "id": "KNAOE2fVpOx6"
      },
      "source": [
        ""
      ],
      "execution_count": null,
      "outputs": []
    },
    {
      "cell_type": "code",
      "metadata": {
        "colab": {
          "base_uri": "https://localhost:8080/"
        },
        "id": "g1JmFl59m2IJ",
        "outputId": "c48c9cc4-530c-48ac-caaf-357b8c6e9c54"
      },
      "source": [
        "with open(\"data.csv\", \"r\") as file:\r\n",
        "      for line in file:\r\n",
        "        print (line, end=\",\")\r\n"
      ],
      "execution_count": 51,
      "outputs": [
        {
          "output_type": "stream",
          "text": [
            "\"indice\", \"letra\", \"valor\"\n",
            ",1,A,1000\n",
            ",2,B,2000\n",
            ",3,C,3000,"
          ],
          "name": "stdout"
        }
      ]
    },
    {
      "cell_type": "code",
      "metadata": {
        "colab": {
          "base_uri": "https://localhost:8080/"
        },
        "id": "So1w0KHToCID",
        "outputId": "ba397701-a8be-4857-9d7c-3738d8940bbd"
      },
      "source": [
        "df =  [\r\n",
        "       [\"index\", \"name\", \"value\"], \r\n",
        "       [1, \"A\", 3.03],\r\n",
        "       [2, \"B\", 5.14],\r\n",
        "       [3, \"C\", 0.40],\r\n",
        "       [4, \"D\", 1.13],\r\n",
        "       [5, \"E\", 8.25]\r\n",
        "    ]\r\n",
        "\r\n",
        "df"
      ],
      "execution_count": 52,
      "outputs": [
        {
          "output_type": "execute_result",
          "data": {
            "text/plain": [
              "[['index', 'name', 'value'],\n",
              " [1, 'A', 3.03],\n",
              " [2, 'B', 5.14],\n",
              " [3, 'C', 0.4],\n",
              " [4, 'D', 1.13],\n",
              " [5, 'E', 8.25]]"
            ]
          },
          "metadata": {
            "tags": []
          },
          "execution_count": 52
        }
      ]
    },
    {
      "cell_type": "code",
      "metadata": {
        "colab": {
          "base_uri": "https://localhost:8080/",
          "height": 35
        },
        "id": "pfmztpmQoZKn",
        "outputId": "00b6024e-3fee-47c2-af57-1012b13de065"
      },
      "source": [
        "encabezamiento = df[0][0] + \",\" + df[0][1] + \",\" + df[0][2]\r\n",
        "encabezamiento"
      ],
      "execution_count": 53,
      "outputs": [
        {
          "output_type": "execute_result",
          "data": {
            "application/vnd.google.colaboratory.intrinsic+json": {
              "type": "string"
            },
            "text/plain": [
              "'index,name,value'"
            ]
          },
          "metadata": {
            "tags": []
          },
          "execution_count": 53
        }
      ]
    },
    {
      "cell_type": "code",
      "metadata": {
        "id": "3hDDOfB3pPsS"
      },
      "source": [
        "import csv\r\n",
        "\r\n",
        "with open('data.txt', 'w') as file:\r\n",
        "    wrt = csv.writer(\r\n",
        "        file,\r\n",
        "        delimiter=',',\r\n",
        "        quoting=csv.QUOTE_ALL,\r\n",
        "    )\r\n",
        "    for row in df:\r\n",
        "      wrt.writerow(row)"
      ],
      "execution_count": 61,
      "outputs": []
    },
    {
      "cell_type": "code",
      "metadata": {
        "colab": {
          "base_uri": "https://localhost:8080/"
        },
        "id": "dgMB3Vibqw-T",
        "outputId": "679e029c-18f1-421e-9f00-777c5425aad0"
      },
      "source": [
        "!cat data.txt"
      ],
      "execution_count": 55,
      "outputs": [
        {
          "output_type": "stream",
          "text": [
            "\"index\"-\"name\"-\"value\"\r\n",
            "\"1\"-\"A\"-\"3.03\"\r\n",
            "\"2\"-\"B\"-\"5.14\"\r\n",
            "\"3\"-\"C\"-\"0.4\"\r\n",
            "\"4\"-\"D\"-\"1.13\"\r\n",
            "\"5\"-\"E\"-\"8.25\"\r\n"
          ],
          "name": "stdout"
        }
      ]
    },
    {
      "cell_type": "code",
      "metadata": {
        "colab": {
          "base_uri": "https://localhost:8080/"
        },
        "id": "vjznukczq79Y",
        "outputId": "e0c0e45d-2879-414f-ced1-1e9ebb64da6a"
      },
      "source": [
        "with open(\"data.txt\", \"r\") as file:\r\n",
        "\r\n",
        "    rdr = csv.reader(file,\r\n",
        "      delimiter=',',\r\n",
        "      quoting=csv.QUOTE_NONNUMERIC,\r\n",
        "    )\r\n",
        "\r\n",
        "    for row in rdr:\r\n",
        "        print(row)"
      ],
      "execution_count": 66,
      "outputs": [
        {
          "output_type": "stream",
          "text": [
            "['index', 'name', 'value']\n",
            "['1', 'A', '3.03']\n",
            "['2', 'B', '5.14']\n",
            "['3', 'C', '0.4']\n",
            "['4', 'D', '1.13']\n",
            "['5', 'E', '8.25']\n"
          ],
          "name": "stdout"
        }
      ]
    },
    {
      "cell_type": "code",
      "metadata": {
        "colab": {
          "base_uri": "https://localhost:8080/",
          "height": 163
        },
        "id": "JWikGYwNt-oi",
        "outputId": "609b6fd7-7227-46e9-bb53-73c3159d2e64"
      },
      "source": [
        ""
      ],
      "execution_count": 67,
      "outputs": [
        {
          "output_type": "error",
          "ename": "FileNotFoundError",
          "evalue": "ignored",
          "traceback": [
            "\u001b[0;31m---------------------------------------------------------------------------\u001b[0m",
            "\u001b[0;31mFileNotFoundError\u001b[0m                         Traceback (most recent call last)",
            "\u001b[0;32m<ipython-input-67-526b9a8a282e>\u001b[0m in \u001b[0;36m<module>\u001b[0;34m()\u001b[0m\n\u001b[0;32m----> 1\u001b[0;31m \u001b[0mprint\u001b[0m\u001b[0;34m(\u001b[0m\u001b[0mopen\u001b[0m\u001b[0;34m(\u001b[0m\u001b[0;34m'files/data.txt'\u001b[0m\u001b[0;34m,\u001b[0m \u001b[0;34m'r'\u001b[0m\u001b[0;34m)\u001b[0m\u001b[0;34m.\u001b[0m\u001b[0mread\u001b[0m\u001b[0;34m(\u001b[0m\u001b[0;34m)\u001b[0m\u001b[0;34m)\u001b[0m\u001b[0;34m\u001b[0m\u001b[0;34m\u001b[0m\u001b[0m\n\u001b[0m",
            "\u001b[0;31mFileNotFoundError\u001b[0m: [Errno 2] No such file or directory: 'files/data.txt'"
          ]
        }
      ]
    },
    {
      "cell_type": "markdown",
      "metadata": {
        "id": "Zid8tVGXv2WB"
      },
      "source": [
        "Jeyson\r\n",
        "\r\n",
        "hay opciones para imprimir bonito el archivo\r\n"
      ]
    },
    {
      "cell_type": "code",
      "metadata": {
        "colab": {
          "base_uri": "https://localhost:8080/",
          "height": 35
        },
        "id": "HOTYFlfIuPFW",
        "outputId": "2cd3a892-0d00-4839-e530-d4f3b145b358"
      },
      "source": [
        "import json\r\n",
        "json.dumps(df)"
      ],
      "execution_count": 68,
      "outputs": [
        {
          "output_type": "execute_result",
          "data": {
            "application/vnd.google.colaboratory.intrinsic+json": {
              "type": "string"
            },
            "text/plain": [
              "'[[\"index\", \"name\", \"value\"], [1, \"A\", 3.03], [2, \"B\", 5.14], [3, \"C\", 0.4], [4, \"D\", 1.13], [5, \"E\", 8.25]]'"
            ]
          },
          "metadata": {
            "tags": []
          },
          "execution_count": 68
        }
      ]
    },
    {
      "cell_type": "code",
      "metadata": {
        "colab": {
          "base_uri": "https://localhost:8080/",
          "height": 52
        },
        "id": "wIpo3H53uREm",
        "outputId": "697423aa-b5c8-424e-dee2-8f9e0d2196f3"
      },
      "source": [
        "json.dumps(df,\r\n",
        "           sort_keys = True,\r\n",
        "           indent = 4)"
      ],
      "execution_count": 71,
      "outputs": [
        {
          "output_type": "execute_result",
          "data": {
            "application/vnd.google.colaboratory.intrinsic+json": {
              "type": "string"
            },
            "text/plain": [
              "'[\\n    [\\n        \"index\",\\n        \"name\",\\n        \"value\"\\n    ],\\n    [\\n        1,\\n        \"A\",\\n        3.03\\n    ],\\n    [\\n        2,\\n        \"B\",\\n        5.14\\n    ],\\n    [\\n        3,\\n        \"C\",\\n        0.4\\n    ],\\n    [\\n        4,\\n        \"D\",\\n        1.13\\n    ],\\n    [\\n        5,\\n        \"E\",\\n        8.25\\n    ]\\n]'"
            ]
          },
          "metadata": {
            "tags": []
          },
          "execution_count": 71
        }
      ]
    },
    {
      "cell_type": "code",
      "metadata": {
        "colab": {
          "base_uri": "https://localhost:8080/"
        },
        "id": "UI7wY4f_uWaU",
        "outputId": "6368a973-d19b-4014-869b-3236e1b9bd0e"
      },
      "source": [
        "\r\n",
        "y = json.dumps(df,\r\n",
        "               sort_keys = True,\r\n",
        "               indent = 4)\r\n",
        "print(y)\r\n"
      ],
      "execution_count": 72,
      "outputs": [
        {
          "output_type": "stream",
          "text": [
            "[\n",
            "    [\n",
            "        \"index\",\n",
            "        \"name\",\n",
            "        \"value\"\n",
            "    ],\n",
            "    [\n",
            "        1,\n",
            "        \"A\",\n",
            "        3.03\n",
            "    ],\n",
            "    [\n",
            "        2,\n",
            "        \"B\",\n",
            "        5.14\n",
            "    ],\n",
            "    [\n",
            "        3,\n",
            "        \"C\",\n",
            "        0.4\n",
            "    ],\n",
            "    [\n",
            "        4,\n",
            "        \"D\",\n",
            "        1.13\n",
            "    ],\n",
            "    [\n",
            "        5,\n",
            "        \"E\",\n",
            "        8.25\n",
            "    ]\n",
            "]\n"
          ],
          "name": "stdout"
        }
      ]
    },
    {
      "cell_type": "code",
      "metadata": {
        "colab": {
          "base_uri": "https://localhost:8080/"
        },
        "id": "hpeDp5KpwkbD",
        "outputId": "8180eaef-bdeb-407d-ead4-f7593f8057f7"
      },
      "source": [
        "## convierte el string en datos\r\n",
        "json.loads(y)"
      ],
      "execution_count": 73,
      "outputs": [
        {
          "output_type": "execute_result",
          "data": {
            "text/plain": [
              "[['index', 'name', 'value'],\n",
              " [1, 'A', 3.03],\n",
              " [2, 'B', 5.14],\n",
              " [3, 'C', 0.4],\n",
              " [4, 'D', 1.13],\n",
              " [5, 'E', 8.25]]"
            ]
          },
          "metadata": {
            "tags": []
          },
          "execution_count": 73
        }
      ]
    },
    {
      "cell_type": "code",
      "metadata": {
        "colab": {
          "base_uri": "https://localhost:8080/",
          "height": 231
        },
        "id": "ah9pX3Ppwmyu",
        "outputId": "82ff1cb1-4079-4f40-dfef-6beb07768421"
      },
      "source": [
        "## convierte los datos en string y\r\n",
        "## los guarda en un archivo\r\n",
        "with open('files/data.json', 'w') as f:\r\n",
        "    json.dump(obj = df,   # datos\r\n",
        "              fp = f)     # archivo"
      ],
      "execution_count": 74,
      "outputs": [
        {
          "output_type": "error",
          "ename": "FileNotFoundError",
          "evalue": "ignored",
          "traceback": [
            "\u001b[0;31m---------------------------------------------------------------------------\u001b[0m",
            "\u001b[0;31mFileNotFoundError\u001b[0m                         Traceback (most recent call last)",
            "\u001b[0;32m<ipython-input-74-a974a809d63c>\u001b[0m in \u001b[0;36m<module>\u001b[0;34m()\u001b[0m\n\u001b[1;32m      1\u001b[0m \u001b[0;31m## convierte los datos en string y\u001b[0m\u001b[0;34m\u001b[0m\u001b[0;34m\u001b[0m\u001b[0;34m\u001b[0m\u001b[0m\n\u001b[1;32m      2\u001b[0m \u001b[0;31m## los guarda en un archivo\u001b[0m\u001b[0;34m\u001b[0m\u001b[0;34m\u001b[0m\u001b[0;34m\u001b[0m\u001b[0m\n\u001b[0;32m----> 3\u001b[0;31m \u001b[0;32mwith\u001b[0m \u001b[0mopen\u001b[0m\u001b[0;34m(\u001b[0m\u001b[0;34m'files/data.json'\u001b[0m\u001b[0;34m,\u001b[0m \u001b[0;34m'w'\u001b[0m\u001b[0;34m)\u001b[0m \u001b[0;32mas\u001b[0m \u001b[0mf\u001b[0m\u001b[0;34m:\u001b[0m\u001b[0;34m\u001b[0m\u001b[0;34m\u001b[0m\u001b[0m\n\u001b[0m\u001b[1;32m      4\u001b[0m     json.dump(obj = df,   # datos\n\u001b[1;32m      5\u001b[0m               fp = f)     # archivo\n",
            "\u001b[0;31mFileNotFoundError\u001b[0m: [Errno 2] No such file or directory: 'files/data.json'"
          ]
        }
      ]
    },
    {
      "cell_type": "code",
      "metadata": {
        "id": "khkqYtRxwo42"
      },
      "source": [
        "open('files/data.csv', 'r').read()"
      ],
      "execution_count": null,
      "outputs": []
    },
    {
      "cell_type": "code",
      "metadata": {
        "id": "-O9oeGvdwuYK"
      },
      "source": [
        "import pickle\r\n",
        "\r\n",
        "with open('data.pickle', \"wb\") as file:\r\n",
        "     pickle.dump(\r\n",
        "         obj=df,\r\n",
        "         file=file,\r\n",
        "     )\r\n",
        "del df"
      ],
      "execution_count": 76,
      "outputs": []
    },
    {
      "cell_type": "code",
      "metadata": {
        "id": "wr4zEGFdxQW2"
      },
      "source": [
        "with open('data.pickle', \"rb\") as file:\r\n",
        "     df = pickle.load(file)\r\n",
        "df"
      ],
      "execution_count": null,
      "outputs": []
    },
    {
      "cell_type": "markdown",
      "metadata": {
        "id": "vnLYkp60xnvp"
      },
      "source": [
        "Manejo de Listas\r\n"
      ]
    },
    {
      "cell_type": "code",
      "metadata": {
        "id": "UM516KPLxpqt"
      },
      "source": [
        "a =[1, 2, 3, 4, 5]"
      ],
      "execution_count": 78,
      "outputs": []
    },
    {
      "cell_type": "code",
      "metadata": {
        "id": "4pFd_FRTxukP"
      },
      "source": [
        "a.append(6)"
      ],
      "execution_count": 79,
      "outputs": []
    },
    {
      "cell_type": "code",
      "metadata": {
        "colab": {
          "base_uri": "https://localhost:8080/"
        },
        "id": "oWyjitFmx04-",
        "outputId": "3d0a671a-afd5-4ef8-de14-458eb7edbf50"
      },
      "source": [
        "a\r\n"
      ],
      "execution_count": 80,
      "outputs": [
        {
          "output_type": "execute_result",
          "data": {
            "text/plain": [
              "[1, 2, 3, 4, 5, 6]"
            ]
          },
          "metadata": {
            "tags": []
          },
          "execution_count": 80
        }
      ]
    },
    {
      "cell_type": "code",
      "metadata": {
        "colab": {
          "base_uri": "https://localhost:8080/"
        },
        "id": "cc3rJlRZx2FV",
        "outputId": "4769a368-1918-48d2-bd72-4ed22a2b35ed"
      },
      "source": [
        "b = [7, 8, 9]\r\n",
        "a.extend(b)\r\n",
        "a"
      ],
      "execution_count": 81,
      "outputs": [
        {
          "output_type": "execute_result",
          "data": {
            "text/plain": [
              "[1, 2, 3, 4, 5, 6, 7, 8, 9]"
            ]
          },
          "metadata": {
            "tags": []
          },
          "execution_count": 81
        }
      ]
    },
    {
      "cell_type": "code",
      "metadata": {
        "colab": {
          "base_uri": "https://localhost:8080/"
        },
        "id": "UZdauoE0x-Ef",
        "outputId": "9cd4c373-b04f-45c4-d5b5-e1540614197b"
      },
      "source": [
        "a+b"
      ],
      "execution_count": 82,
      "outputs": [
        {
          "output_type": "execute_result",
          "data": {
            "text/plain": [
              "[1, 2, 3, 4, 5, 6, 7, 8, 9, 7, 8, 9]"
            ]
          },
          "metadata": {
            "tags": []
          },
          "execution_count": 82
        }
      ]
    },
    {
      "cell_type": "code",
      "metadata": {
        "colab": {
          "base_uri": "https://localhost:8080/"
        },
        "id": "Tuk9dOS4yABf",
        "outputId": "89b601cb-0af2-46c9-d7f9-decba6987d28"
      },
      "source": [
        "a.insert(0, 'a')\r\n",
        "a"
      ],
      "execution_count": 85,
      "outputs": [
        {
          "output_type": "execute_result",
          "data": {
            "text/plain": [
              "['a', 'a', 'a', 1, 2, 3, 4, 5, 6, 7, 8, 9]"
            ]
          },
          "metadata": {
            "tags": []
          },
          "execution_count": 85
        }
      ]
    },
    {
      "cell_type": "code",
      "metadata": {
        "colab": {
          "base_uri": "https://localhost:8080/"
        },
        "id": "SiwFdcL2yG1z",
        "outputId": "f839a96c-9a01-4ece-8d2b-8c95a6de3d5f"
      },
      "source": [
        "x = ['a', 'b', 'b', 'c', 'c', 'c']\r\n",
        "x"
      ],
      "execution_count": 86,
      "outputs": [
        {
          "output_type": "execute_result",
          "data": {
            "text/plain": [
              "['a', 'b', 'b', 'c', 'c', 'c']"
            ]
          },
          "metadata": {
            "tags": []
          },
          "execution_count": 86
        }
      ]
    },
    {
      "cell_type": "code",
      "metadata": {
        "colab": {
          "base_uri": "https://localhost:8080/",
          "height": 163
        },
        "id": "w66WVu41ycAe",
        "outputId": "355896b4-ebe7-46dc-df40-8170e13a36f9"
      },
      "source": [
        "x.count(a), x.count(b), x.count(c)"
      ],
      "execution_count": 87,
      "outputs": [
        {
          "output_type": "error",
          "ename": "NameError",
          "evalue": "ignored",
          "traceback": [
            "\u001b[0;31m---------------------------------------------------------------------------\u001b[0m",
            "\u001b[0;31mNameError\u001b[0m                                 Traceback (most recent call last)",
            "\u001b[0;32m<ipython-input-87-6656d33d4ab3>\u001b[0m in \u001b[0;36m<module>\u001b[0;34m()\u001b[0m\n\u001b[0;32m----> 1\u001b[0;31m \u001b[0mx\u001b[0m\u001b[0;34m.\u001b[0m\u001b[0mcount\u001b[0m\u001b[0;34m(\u001b[0m\u001b[0ma\u001b[0m\u001b[0;34m)\u001b[0m\u001b[0;34m,\u001b[0m \u001b[0mx\u001b[0m\u001b[0;34m.\u001b[0m\u001b[0mcount\u001b[0m\u001b[0;34m(\u001b[0m\u001b[0mb\u001b[0m\u001b[0;34m)\u001b[0m\u001b[0;34m,\u001b[0m \u001b[0mx\u001b[0m\u001b[0;34m.\u001b[0m\u001b[0mcount\u001b[0m\u001b[0;34m(\u001b[0m\u001b[0mc\u001b[0m\u001b[0;34m)\u001b[0m\u001b[0;34m\u001b[0m\u001b[0;34m\u001b[0m\u001b[0m\n\u001b[0m",
            "\u001b[0;31mNameError\u001b[0m: name 'c' is not defined"
          ]
        }
      ]
    },
    {
      "cell_type": "code",
      "metadata": {
        "colab": {
          "base_uri": "https://localhost:8080/"
        },
        "id": "Rc8NPunsykef",
        "outputId": "58cb3086-50c3-45bc-9c46-d0c830211627"
      },
      "source": [
        "a.reverse()\r\n",
        "a"
      ],
      "execution_count": 89,
      "outputs": [
        {
          "output_type": "execute_result",
          "data": {
            "text/plain": [
              "['a', 'a', 'a', 1, 2, 3, 4, 5, 6, 7, 8, 9]"
            ]
          },
          "metadata": {
            "tags": []
          },
          "execution_count": 89
        }
      ]
    },
    {
      "cell_type": "code",
      "metadata": {
        "id": "JedA_yLdzA9G"
      },
      "source": [
        ""
      ],
      "execution_count": null,
      "outputs": []
    },
    {
      "cell_type": "code",
      "metadata": {
        "id": "8q2Asg4Q1CNM"
      },
      "source": [
        ""
      ],
      "execution_count": null,
      "outputs": []
    },
    {
      "cell_type": "code",
      "metadata": {
        "id": "E3mONFjn1CPu"
      },
      "source": [
        ""
      ],
      "execution_count": null,
      "outputs": []
    },
    {
      "cell_type": "code",
      "metadata": {
        "id": "l6GxfhrI1CSX"
      },
      "source": [
        ""
      ],
      "execution_count": null,
      "outputs": []
    },
    {
      "cell_type": "code",
      "metadata": {
        "id": "5Wt7_4W61CU4"
      },
      "source": [
        ""
      ],
      "execution_count": null,
      "outputs": []
    },
    {
      "cell_type": "code",
      "metadata": {
        "id": "8PYNnkfu1Ci7"
      },
      "source": [
        ""
      ],
      "execution_count": null,
      "outputs": []
    },
    {
      "cell_type": "code",
      "metadata": {
        "id": "meYbZ69Q1ClQ"
      },
      "source": [
        ""
      ],
      "execution_count": null,
      "outputs": []
    },
    {
      "cell_type": "code",
      "metadata": {
        "colab": {
          "base_uri": "https://localhost:8080/"
        },
        "id": "EnDVzXn31CqE",
        "outputId": "2ef526e3-ce17-4787-a6c2-6ffca32b5e4b"
      },
      "source": [
        "a = list(range(10))\r\n",
        "a\r\n"
      ],
      "execution_count": 90,
      "outputs": [
        {
          "output_type": "execute_result",
          "data": {
            "text/plain": [
              "[0, 1, 2, 3, 4, 5, 6, 7, 8, 9]"
            ]
          },
          "metadata": {
            "tags": []
          },
          "execution_count": 90
        }
      ]
    },
    {
      "cell_type": "code",
      "metadata": {
        "colab": {
          "base_uri": "https://localhost:8080/"
        },
        "id": "uhbfaghP1JQI",
        "outputId": "eab9e5b7-bc95-4856-ee96-e098eeb5323d"
      },
      "source": [
        "b = []\r\n",
        "for e in a:\r\n",
        "  if e>4:\r\n",
        "      b.append(e)\r\n",
        "\r\n",
        "b"
      ],
      "execution_count": 91,
      "outputs": [
        {
          "output_type": "execute_result",
          "data": {
            "text/plain": [
              "[5, 6, 7, 8, 9]"
            ]
          },
          "metadata": {
            "tags": []
          },
          "execution_count": 91
        }
      ]
    },
    {
      "cell_type": "code",
      "metadata": {
        "colab": {
          "base_uri": "https://localhost:8080/"
        },
        "id": "RFKEHoAF1Wal",
        "outputId": "daf2c1b5-f015-4f07-982f-413e863e5877"
      },
      "source": [
        "b = [e for e in a if e>4]\r\n",
        "b"
      ],
      "execution_count": 94,
      "outputs": [
        {
          "output_type": "execute_result",
          "data": {
            "text/plain": [
              "[5, 6, 7, 8, 9]"
            ]
          },
          "metadata": {
            "tags": []
          },
          "execution_count": 94
        }
      ]
    },
    {
      "cell_type": "code",
      "metadata": {
        "colab": {
          "base_uri": "https://localhost:8080/"
        },
        "id": "kdmUcWgn1lEG",
        "outputId": "4ee0c6c0-8b0e-48cd-db40-ff4c0d00bf30"
      },
      "source": [
        "[e**2 for e in a if e>4]"
      ],
      "execution_count": 95,
      "outputs": [
        {
          "output_type": "execute_result",
          "data": {
            "text/plain": [
              "[25, 36, 49, 64, 81]"
            ]
          },
          "metadata": {
            "tags": []
          },
          "execution_count": 95
        }
      ]
    },
    {
      "cell_type": "code",
      "metadata": {
        "colab": {
          "base_uri": "https://localhost:8080/"
        },
        "id": "nt3J32Bl2gh9",
        "outputId": "6dd66220-2b7e-444e-dbfc-660bdc704459"
      },
      "source": [
        "a\r\n"
      ],
      "execution_count": 96,
      "outputs": [
        {
          "output_type": "execute_result",
          "data": {
            "text/plain": [
              "[0, 1, 2, 3, 4, 5, 6, 7, 8, 9]"
            ]
          },
          "metadata": {
            "tags": []
          },
          "execution_count": 96
        }
      ]
    },
    {
      "cell_type": "code",
      "metadata": {
        "id": "sTuHwX7l2h4G"
      },
      "source": [
        "y = filter(lambda u: u >4, a)\r\n"
      ],
      "execution_count": 97,
      "outputs": []
    },
    {
      "cell_type": "code",
      "metadata": {
        "colab": {
          "base_uri": "https://localhost:8080/"
        },
        "id": "e5qIhGYv256i",
        "outputId": "06f144ca-d94b-4858-a105-62274a8a4159"
      },
      "source": [
        "a\r\n"
      ],
      "execution_count": 98,
      "outputs": [
        {
          "output_type": "execute_result",
          "data": {
            "text/plain": [
              "[0, 1, 2, 3, 4, 5, 6, 7, 8, 9]"
            ]
          },
          "metadata": {
            "tags": []
          },
          "execution_count": 98
        }
      ]
    },
    {
      "cell_type": "code",
      "metadata": {
        "colab": {
          "base_uri": "https://localhost:8080/"
        },
        "id": "alt8cQEJ3B91",
        "outputId": "7291e40c-3eb6-45e9-8474-b202e645eb98"
      },
      "source": [
        "for i ,_ in enumerate(a):\r\n",
        "    a[i] += 10\r\n",
        "\r\n",
        "a"
      ],
      "execution_count": 99,
      "outputs": [
        {
          "output_type": "execute_result",
          "data": {
            "text/plain": [
              "[10, 11, 12, 13, 14, 15, 16, 17, 18, 19]"
            ]
          },
          "metadata": {
            "tags": []
          },
          "execution_count": 99
        }
      ]
    },
    {
      "cell_type": "code",
      "metadata": {
        "colab": {
          "base_uri": "https://localhost:8080/"
        },
        "id": "uvc8CT2N3Q8w",
        "outputId": "9fe8c1b1-f02c-4d4a-dc8f-8e6acfcd9863"
      },
      "source": [
        "a = list(range(10))\r\n",
        "a"
      ],
      "execution_count": 100,
      "outputs": [
        {
          "output_type": "execute_result",
          "data": {
            "text/plain": [
              "[0, 1, 2, 3, 4, 5, 6, 7, 8, 9]"
            ]
          },
          "metadata": {
            "tags": []
          },
          "execution_count": 100
        }
      ]
    },
    {
      "cell_type": "code",
      "metadata": {
        "colab": {
          "base_uri": "https://localhost:8080/"
        },
        "id": "ANoIVoxH3Xje",
        "outputId": "08698293-c310-4d64-fb19-5c775e22d1b9"
      },
      "source": [
        "[u+10 for u in a]"
      ],
      "execution_count": 101,
      "outputs": [
        {
          "output_type": "execute_result",
          "data": {
            "text/plain": [
              "[10, 11, 12, 13, 14, 15, 16, 17, 18, 19]"
            ]
          },
          "metadata": {
            "tags": []
          },
          "execution_count": 101
        }
      ]
    },
    {
      "cell_type": "code",
      "metadata": {
        "colab": {
          "base_uri": "https://localhost:8080/"
        },
        "id": "c6gouZtS3bRO",
        "outputId": "07fef5d7-dc3e-4051-a5c5-60d0e1e91d25"
      },
      "source": [
        "a = list(range(10))\r\n",
        "list(map(lambda u: u+10, a))"
      ],
      "execution_count": 102,
      "outputs": [
        {
          "output_type": "execute_result",
          "data": {
            "text/plain": [
              "[10, 11, 12, 13, 14, 15, 16, 17, 18, 19]"
            ]
          },
          "metadata": {
            "tags": []
          },
          "execution_count": 102
        }
      ]
    },
    {
      "cell_type": "code",
      "metadata": {
        "colab": {
          "base_uri": "https://localhost:8080/"
        },
        "id": "vexXAHGG3wPN",
        "outputId": "845980b3-ac7c-458b-eeaf-64863ec23fcf"
      },
      "source": [
        "# desempaquetar lista\r\n",
        "\r\n",
        "a, *rest=[1, 2, 3, 4]\r\n",
        "a, rest "
      ],
      "execution_count": 103,
      "outputs": [
        {
          "output_type": "execute_result",
          "data": {
            "text/plain": [
              "(1, [2, 3, 4])"
            ]
          },
          "metadata": {
            "tags": []
          },
          "execution_count": 103
        }
      ]
    },
    {
      "cell_type": "code",
      "metadata": {
        "colab": {
          "base_uri": "https://localhost:8080/"
        },
        "id": "YveaRn7c4TAF",
        "outputId": "9e84a7dd-971d-4050-d06a-e5c7addb1834"
      },
      "source": [
        "a, *middle, c, b =[1, 2, 3, 4]\r\n",
        "a, middle, c "
      ],
      "execution_count": 105,
      "outputs": [
        {
          "output_type": "execute_result",
          "data": {
            "text/plain": [
              "(1, [2], 3)"
            ]
          },
          "metadata": {
            "tags": []
          },
          "execution_count": 105
        }
      ]
    },
    {
      "cell_type": "code",
      "metadata": {
        "colab": {
          "base_uri": "https://localhost:8080/"
        },
        "id": "N8ibPU924rI1",
        "outputId": "80bb4bfa-9627-44f3-f937-a6e8676868ec"
      },
      "source": [
        "squares =[]\r\n",
        "for x in range(10):\r\n",
        "      squares.append(x**2)\r\n",
        "\r\n",
        "squares"
      ],
      "execution_count": 107,
      "outputs": [
        {
          "output_type": "execute_result",
          "data": {
            "text/plain": [
              "[0, 1, 4, 9, 16, 25, 36, 49, 64, 81]"
            ]
          },
          "metadata": {
            "tags": []
          },
          "execution_count": 107
        }
      ]
    },
    {
      "cell_type": "code",
      "metadata": {
        "colab": {
          "base_uri": "https://localhost:8080/"
        },
        "id": "gJ-Z0mpi-1o2",
        "outputId": "347ff433-7a52-43b1-a852-61745ca2ee27"
      },
      "source": [
        "squares = [x**2 for x in range(10)]\r\n",
        "squares"
      ],
      "execution_count": 108,
      "outputs": [
        {
          "output_type": "execute_result",
          "data": {
            "text/plain": [
              "[0, 1, 4, 9, 16, 25, 36, 49, 64, 81]"
            ]
          },
          "metadata": {
            "tags": []
          },
          "execution_count": 108
        }
      ]
    },
    {
      "cell_type": "code",
      "metadata": {
        "id": "r8moWYny_Ard"
      },
      "source": [
        "result = []\r\n",
        "for x in [1, 2, 3]:\r\n",
        "\r\n",
        "b = [3, 1, 4]"
      ],
      "execution_count": null,
      "outputs": []
    },
    {
      "cell_type": "code",
      "metadata": {
        "colab": {
          "base_uri": "https://localhost:8080/"
        },
        "id": "qNyDsMt7_pqc",
        "outputId": "146927db-413d-48f8-d253-217348aff69d"
      },
      "source": [
        "[(x, y) for x in [1, 2, 3] for y in [3, 1, 4] if x!=y]"
      ],
      "execution_count": 110,
      "outputs": [
        {
          "output_type": "execute_result",
          "data": {
            "text/plain": [
              "[(1, 3), (1, 4), (2, 3), (2, 1), (2, 4), (3, 1), (3, 4)]"
            ]
          },
          "metadata": {
            "tags": []
          },
          "execution_count": 110
        }
      ]
    },
    {
      "cell_type": "code",
      "metadata": {
        "colab": {
          "base_uri": "https://localhost:8080/"
        },
        "id": "9yvLH25r_3cM",
        "outputId": "54e3d9fa-5048-478b-991d-03303a302272"
      },
      "source": [
        "x = [' a a', '  aa', '  aa    ']\r\n",
        "x"
      ],
      "execution_count": 112,
      "outputs": [
        {
          "output_type": "execute_result",
          "data": {
            "text/plain": [
              "[' a a', '  aa', '  aa    ']"
            ]
          },
          "metadata": {
            "tags": []
          },
          "execution_count": 112
        }
      ]
    },
    {
      "cell_type": "code",
      "metadata": {
        "colab": {
          "base_uri": "https://localhost:8080/"
        },
        "id": "7ymwSbBNARn0",
        "outputId": "1c1bb6ba-abe7-4ec5-e7f9-ace16e6d729f"
      },
      "source": [
        "[e.strip() for e in x]"
      ],
      "execution_count": 113,
      "outputs": [
        {
          "output_type": "execute_result",
          "data": {
            "text/plain": [
              "['a a', 'aa', 'aa']"
            ]
          },
          "metadata": {
            "tags": []
          },
          "execution_count": 113
        }
      ]
    },
    {
      "cell_type": "code",
      "metadata": {
        "colab": {
          "base_uri": "https://localhost:8080/"
        },
        "id": "S5kOX9-2AaIU",
        "outputId": "077ffaa0-0509-4c3a-c4d3-924217466955"
      },
      "source": [
        "['linea ' +str(i) for i in range(10)]"
      ],
      "execution_count": 114,
      "outputs": [
        {
          "output_type": "execute_result",
          "data": {
            "text/plain": [
              "['linea 0',\n",
              " 'linea 1',\n",
              " 'linea 2',\n",
              " 'linea 3',\n",
              " 'linea 4',\n",
              " 'linea 5',\n",
              " 'linea 6',\n",
              " 'linea 7',\n",
              " 'linea 8',\n",
              " 'linea 9']"
            ]
          },
          "metadata": {
            "tags": []
          },
          "execution_count": 114
        }
      ]
    },
    {
      "cell_type": "code",
      "metadata": {
        "colab": {
          "base_uri": "https://localhost:8080/"
        },
        "id": "LEQxtmXVAik-",
        "outputId": "8b6bd433-542e-4e95-fa58-510638feebbb"
      },
      "source": [
        "list(range(1, 21))"
      ],
      "execution_count": 115,
      "outputs": [
        {
          "output_type": "execute_result",
          "data": {
            "text/plain": [
              "[1, 2, 3, 4, 5, 6, 7, 8, 9, 10, 11, 12, 13, 14, 15, 16, 17, 18, 19, 20]"
            ]
          },
          "metadata": {
            "tags": []
          },
          "execution_count": 115
        }
      ]
    },
    {
      "cell_type": "code",
      "metadata": {
        "colab": {
          "base_uri": "https://localhost:8080/"
        },
        "id": "IgXaKkhqAo6M",
        "outputId": "9e872343-dc29-4362-bdfb-3b4abb845436"
      },
      "source": [
        "import re\r\n",
        "\r\n",
        "[i for i in range(1, 21) if re.search('1', str(i))]"
      ],
      "execution_count": 117,
      "outputs": [
        {
          "output_type": "execute_result",
          "data": {
            "text/plain": [
              "[1, 10, 11, 12, 13, 14, 15, 16, 17, 18, 19]"
            ]
          },
          "metadata": {
            "tags": []
          },
          "execution_count": 117
        }
      ]
    },
    {
      "cell_type": "code",
      "metadata": {
        "colab": {
          "base_uri": "https://localhost:8080/",
          "height": 35
        },
        "id": "NZewt9e6A58E",
        "outputId": "b24c3513-35bc-4231-b560-8592c9da273c"
      },
      "source": [
        "str(100)"
      ],
      "execution_count": 118,
      "outputs": [
        {
          "output_type": "execute_result",
          "data": {
            "application/vnd.google.colaboratory.intrinsic+json": {
              "type": "string"
            },
            "text/plain": [
              "'100'"
            ]
          },
          "metadata": {
            "tags": []
          },
          "execution_count": 118
        }
      ]
    },
    {
      "cell_type": "code",
      "metadata": {
        "colab": {
          "base_uri": "https://localhost:8080/"
        },
        "id": "VfBGmNbUBEVU",
        "outputId": "60e7b062-4648-4f64-a8cf-df4beca9402d"
      },
      "source": [
        "[i for i in range(1, 21) if re.search('1$', str(i))]"
      ],
      "execution_count": 119,
      "outputs": [
        {
          "output_type": "execute_result",
          "data": {
            "text/plain": [
              "[1, 11]"
            ]
          },
          "metadata": {
            "tags": []
          },
          "execution_count": 119
        }
      ]
    },
    {
      "cell_type": "code",
      "metadata": {
        "colab": {
          "base_uri": "https://localhost:8080/"
        },
        "id": "kFWJPm3aBJyU",
        "outputId": "9a98c175-d042-4b90-ce0c-936a4a95e328"
      },
      "source": [
        "[i for i in range(1, 21) if re.search('^1', str(i))]"
      ],
      "execution_count": 120,
      "outputs": [
        {
          "output_type": "execute_result",
          "data": {
            "text/plain": [
              "[1, 10, 11, 12, 13, 14, 15, 16, 17, 18, 19]"
            ]
          },
          "metadata": {
            "tags": []
          },
          "execution_count": 120
        }
      ]
    },
    {
      "cell_type": "code",
      "metadata": {
        "colab": {
          "base_uri": "https://localhost:8080/"
        },
        "id": "FjTnqdSLBV3s",
        "outputId": "803e8022-5826-4d5b-c34f-74efecce58f9"
      },
      "source": [
        "X = [\r\n",
        "     \"1234567890\",\r\n",
        "     \"ABCDEFGHIJ\",\r\n",
        "     \"abcdefghij\",\r\n",
        "     \r\n",
        "]\r\n",
        "\r\n",
        "[row[2:5] for row in X]"
      ],
      "execution_count": 122,
      "outputs": [
        {
          "output_type": "execute_result",
          "data": {
            "text/plain": [
              "['345', 'CDE', 'cde']"
            ]
          },
          "metadata": {
            "tags": []
          },
          "execution_count": 122
        }
      ]
    },
    {
      "cell_type": "code",
      "metadata": {
        "colab": {
          "base_uri": "https://localhost:8080/"
        },
        "id": "32nVt0sIBr8m",
        "outputId": "fec1873f-b5eb-47e2-ce47-ca97c5acd858"
      },
      "source": [
        "X = [\r\n",
        "     \"-->[123]<--\",\r\n",
        "     \"--->[abc]<--\",\r\n",
        "     \"------>[ABCDE]<--\",\r\n",
        "]\r\n",
        "\r\n",
        "[row[row.find('[')+1:row.find(']')] for row in X]"
      ],
      "execution_count": 123,
      "outputs": [
        {
          "output_type": "execute_result",
          "data": {
            "text/plain": [
              "['123', 'abc', 'ABCDE']"
            ]
          },
          "metadata": {
            "tags": []
          },
          "execution_count": 123
        }
      ]
    },
    {
      "cell_type": "code",
      "metadata": {
        "colab": {
          "base_uri": "https://localhost:8080/"
        },
        "id": "nDO9-5BdCZTA",
        "outputId": "24c32e12-81be-4bed-df97-8d8b80499e67"
      },
      "source": [
        "x = [\"Bash is a Unix shell and command language\",\r\n",
        "     \"written by Brian Fox for the \",\r\n",
        "     \"GNU Project as a free software\",\r\n",
        "     \"replacement for the Bourne shell.\"]\r\n",
        "\r\n",
        "[row.split() for row in x]"
      ],
      "execution_count": 124,
      "outputs": [
        {
          "output_type": "execute_result",
          "data": {
            "text/plain": [
              "[['Bash', 'is', 'a', 'Unix', 'shell', 'and', 'command', 'language'],\n",
              " ['written', 'by', 'Brian', 'Fox', 'for', 'the'],\n",
              " ['GNU', 'Project', 'as', 'a', 'free', 'software'],\n",
              " ['replacement', 'for', 'the', 'Bourne', 'shell.']]"
            ]
          },
          "metadata": {
            "tags": []
          },
          "execution_count": 124
        }
      ]
    },
    {
      "cell_type": "code",
      "metadata": {
        "colab": {
          "base_uri": "https://localhost:8080/",
          "height": 35
        },
        "id": "_nwMXXVNDFzr",
        "outputId": "f3b3abb9-58a2-4f58-a061-e8e728db7f09"
      },
      "source": [
        "';' .join(['Bash', 'is', 'a', 'Unix', 'shell', 'and', 'command', 'language'])"
      ],
      "execution_count": 125,
      "outputs": [
        {
          "output_type": "execute_result",
          "data": {
            "application/vnd.google.colaboratory.intrinsic+json": {
              "type": "string"
            },
            "text/plain": [
              "'Bash;is;a;Unix;shell;and;command;language'"
            ]
          },
          "metadata": {
            "tags": []
          },
          "execution_count": 125
        }
      ]
    },
    {
      "cell_type": "code",
      "metadata": {
        "colab": {
          "base_uri": "https://localhost:8080/"
        },
        "id": "eQ8z6Ot_DS0C",
        "outputId": "52bab409-df76-4dea-e450-8945e61385e5"
      },
      "source": [
        "nums = \"\"\r\n",
        "for n in range(20):\r\n",
        "  nums += str(n)  # Lento e ineficiente\r\n",
        "\r\n",
        "print(nums)"
      ],
      "execution_count": 126,
      "outputs": [
        {
          "output_type": "stream",
          "text": [
            "012345678910111213141516171819\n"
          ],
          "name": "stdout"
        }
      ]
    },
    {
      "cell_type": "code",
      "metadata": {
        "colab": {
          "base_uri": "https://localhost:8080/",
          "height": 35
        },
        "id": "EnOvQ5fsDtxo",
        "outputId": "62cb413c-33f5-435c-d622-b5547a949f35"
      },
      "source": [
        "nums = [str(e) for e in range(20)]\r\n",
        "\"\".join(nums)"
      ],
      "execution_count": 127,
      "outputs": [
        {
          "output_type": "execute_result",
          "data": {
            "application/vnd.google.colaboratory.intrinsic+json": {
              "type": "string"
            },
            "text/plain": [
              "'012345678910111213141516171819'"
            ]
          },
          "metadata": {
            "tags": []
          },
          "execution_count": 127
        }
      ]
    },
    {
      "cell_type": "code",
      "metadata": {
        "colab": {
          "base_uri": "https://localhost:8080/"
        },
        "id": "XqeYAimVD4xM",
        "outputId": "d7fb640f-54a2-41e2-90d7-672a0108aee1"
      },
      "source": [
        "m = [\r\n",
        "     [1, 2, 3],\r\n",
        "     [4, 5, 6],\r\n",
        "     [7, 8, 9],\r\n",
        "]\r\n",
        "\r\n",
        "[[elem**2 for elem in row] for row in m]"
      ],
      "execution_count": 132,
      "outputs": [
        {
          "output_type": "execute_result",
          "data": {
            "text/plain": [
              "[[1, 4, 9], [16, 25, 36], [49, 64, 81]]"
            ]
          },
          "metadata": {
            "tags": []
          },
          "execution_count": 132
        }
      ]
    },
    {
      "cell_type": "code",
      "metadata": {
        "id": "-wl129D7EO9b"
      },
      "source": [
        ""
      ],
      "execution_count": null,
      "outputs": []
    },
    {
      "cell_type": "code",
      "metadata": {
        "id": "xknWlatPEUA1"
      },
      "source": [
        ""
      ],
      "execution_count": null,
      "outputs": []
    },
    {
      "cell_type": "code",
      "metadata": {
        "colab": {
          "base_uri": "https://localhost:8080/"
        },
        "id": "f9wlOcS1EUDw",
        "outputId": "87dc3e71-5d80-4520-d938-419c93b10667"
      },
      "source": [
        "m \r\n"
      ],
      "execution_count": 130,
      "outputs": [
        {
          "output_type": "execute_result",
          "data": {
            "text/plain": [
              "[[1, 2, 3], [4, 5, 6], [7, 8, 9]]"
            ]
          },
          "metadata": {
            "tags": []
          },
          "execution_count": 130
        }
      ]
    },
    {
      "cell_type": "code",
      "metadata": {
        "id": "U7WpHoiSEgoU"
      },
      "source": [
        ""
      ],
      "execution_count": null,
      "outputs": []
    },
    {
      "cell_type": "code",
      "metadata": {
        "colab": {
          "base_uri": "https://localhost:8080/"
        },
        "id": "cYHcM-VdE30s",
        "outputId": "7f8c46af-a371-4158-eb43-7b3ce45edcb6"
      },
      "source": [
        "## vamos a contar linea\r\n",
        "\r\n",
        "!cat demo.txt"
      ],
      "execution_count": 134,
      "outputs": [
        {
          "output_type": "stream",
          "text": [
            "Linea 1\n",
            "Linea 2\n",
            "Linea 3\n",
            "Linea 4\n",
            "Linea 5\n",
            "Linea 6\n",
            "Linea 7"
          ],
          "name": "stdout"
        }
      ]
    },
    {
      "cell_type": "code",
      "metadata": {
        "colab": {
          "base_uri": "https://localhost:8080/"
        },
        "id": "IMbmdMS2FOhk",
        "outputId": "4c5ae756-b9e0-4eea-86f8-a95d5d5ef9a7"
      },
      "source": [
        "open('demo.txt', 'r').readlines()"
      ],
      "execution_count": 137,
      "outputs": [
        {
          "output_type": "execute_result",
          "data": {
            "text/plain": [
              "['Linea 1\\n',\n",
              " 'Linea 2\\n',\n",
              " 'Linea 3\\n',\n",
              " 'Linea 4\\n',\n",
              " 'Linea 5\\n',\n",
              " 'Linea 6\\n',\n",
              " 'Linea 7']"
            ]
          },
          "metadata": {
            "tags": []
          },
          "execution_count": 137
        }
      ]
    },
    {
      "cell_type": "code",
      "metadata": {
        "colab": {
          "base_uri": "https://localhost:8080/"
        },
        "id": "4lxVFyugE8QU",
        "outputId": "186e64b0-c0bf-4569-f018-8991893f6aa7"
      },
      "source": [
        "len(open('demo.txt', 'r').readlines())"
      ],
      "execution_count": 136,
      "outputs": [
        {
          "output_type": "execute_result",
          "data": {
            "text/plain": [
              "7"
            ]
          },
          "metadata": {
            "tags": []
          },
          "execution_count": 136
        }
      ]
    },
    {
      "cell_type": "code",
      "metadata": {
        "colab": {
          "base_uri": "https://localhost:8080/"
        },
        "id": "XFu7ZmFhFH0v",
        "outputId": "14c35b79-a2e7-4660-83ea-15243df5c08b"
      },
      "source": [
        "with open ('demo.txt', 'r') as file:\r\n",
        "    lines = file.readlines()\r\n",
        "    print(repr(lines))\r\n",
        "    "
      ],
      "execution_count": 139,
      "outputs": [
        {
          "output_type": "stream",
          "text": [
            "['Linea 1\\n', 'Linea 2\\n', 'Linea 3\\n', 'Linea 4\\n', 'Linea 5\\n', 'Linea 6\\n', 'Linea 7']\n"
          ],
          "name": "stdout"
        }
      ]
    },
    {
      "cell_type": "code",
      "metadata": {
        "colab": {
          "base_uri": "https://localhost:8080/"
        },
        "id": "_ckfl7VZFr78",
        "outputId": "39d8eccd-30c4-4612-bfba-2a71f777e341"
      },
      "source": [
        "with open ('demo.txt', 'r') as file:\r\n",
        "    lines = file.readlines()\r\n",
        "    content = ''.join(lines)\r\n",
        "    print(repr(content))\r\n"
      ],
      "execution_count": 140,
      "outputs": [
        {
          "output_type": "stream",
          "text": [
            "'Linea 1\\nLinea 2\\nLinea 3\\nLinea 4\\nLinea 5\\nLinea 6\\nLinea 7'\n"
          ],
          "name": "stdout"
        }
      ]
    },
    {
      "cell_type": "code",
      "metadata": {
        "colab": {
          "base_uri": "https://localhost:8080/"
        },
        "id": "bYaymJbBF_Gh",
        "outputId": "6e536a06-b2dd-4cc7-ed1c-334f7d304166"
      },
      "source": [
        "with open ('demo.txt', 'r') as file:\r\n",
        "    lines = file.readlines()\r\n",
        "    content = ''.join(lines)\r\n",
        "    print (len(content.split()))\r\n",
        "    "
      ],
      "execution_count": 141,
      "outputs": [
        {
          "output_type": "stream",
          "text": [
            "14\n"
          ],
          "name": "stdout"
        }
      ]
    },
    {
      "cell_type": "code",
      "metadata": {
        "colab": {
          "base_uri": "https://localhost:8080/"
        },
        "id": "tOiOlgpLGSKm",
        "outputId": "e29303fd-14d2-4996-8f3b-4de1236086f7"
      },
      "source": [
        "with open ('demo.txt', 'r') as file:\r\n",
        "    lines = file.readlines()\r\n",
        "    content = ''.join(lines)\r\n",
        "    print(len(content))"
      ],
      "execution_count": 144,
      "outputs": [
        {
          "output_type": "stream",
          "text": [
            "55\n"
          ],
          "name": "stdout"
        }
      ]
    },
    {
      "cell_type": "code",
      "metadata": {
        "id": "87A8Hm64GhaE"
      },
      "source": [
        "\r\n"
      ],
      "execution_count": null,
      "outputs": []
    },
    {
      "cell_type": "code",
      "metadata": {
        "id": "6IeaLwDeGtAV"
      },
      "source": [
        ""
      ],
      "execution_count": null,
      "outputs": []
    },
    {
      "cell_type": "code",
      "metadata": {
        "colab": {
          "base_uri": "https://localhost:8080/"
        },
        "id": "u-dCsELWGtJ_",
        "outputId": "159477c5-22e4-44c5-ce40-c978f7ff4b06"
      },
      "source": [
        "%%writefile data.csv \r\n",
        "Date, Year, CustomerID, Value\r\n",
        "2013-01-12, 2013, 1, 100\r\n",
        "2014-05-12, 2014, 1, 100\r\n",
        "2013-02-25, 2013, 2, 200\r\n",
        "2013-04-04, 2013, 1, 100\r\n",
        "2013-06-21, 2013, 2, 200\r\n",
        "2014-05-18, 2014, 1, 100\r\n",
        "2014-06-23, 2014, 2, 200\r\n",
        "2013-02-28, 2013, 1, 100\r\n",
        "2013-08-02, 2013, 1, 100"
      ],
      "execution_count": 145,
      "outputs": [
        {
          "output_type": "stream",
          "text": [
            "Overwriting data.csv\n"
          ],
          "name": "stdout"
        }
      ]
    },
    {
      "cell_type": "code",
      "metadata": {
        "colab": {
          "base_uri": "https://localhost:8080/"
        },
        "id": "zrpWYTCxHGGD",
        "outputId": "b83c0695-948e-4d1c-f4cc-6379735a3cde"
      },
      "source": [
        "!cat data.csv"
      ],
      "execution_count": 146,
      "outputs": [
        {
          "output_type": "stream",
          "text": [
            "Date, Year, CustomerID, Value\n",
            "2013-01-12, 2013, 1, 100\n",
            "2014-05-12, 2014, 1, 100\n",
            "2013-02-25, 2013, 2, 200\n",
            "2013-04-04, 2013, 1, 100\n",
            "2013-06-21, 2013, 2, 200\n",
            "2014-05-18, 2014, 1, 100\n",
            "2014-06-23, 2014, 2, 200\n",
            "2013-02-28, 2013, 1, 100\n",
            "2013-08-02, 2013, 1, 100"
          ],
          "name": "stdout"
        }
      ]
    },
    {
      "cell_type": "code",
      "metadata": {
        "colab": {
          "base_uri": "https://localhost:8080/"
        },
        "id": "vllJCiIKHMAD",
        "outputId": "897a2384-e4e0-4edc-f2f2-35db97e0cb51"
      },
      "source": [
        "with open('data.csv', 'r') as file:\r\n",
        "    x = file.readlines()\r\n",
        "x"
      ],
      "execution_count": 147,
      "outputs": [
        {
          "output_type": "execute_result",
          "data": {
            "text/plain": [
              "['Date, Year, CustomerID, Value\\n',\n",
              " '2013-01-12, 2013, 1, 100\\n',\n",
              " '2014-05-12, 2014, 1, 100\\n',\n",
              " '2013-02-25, 2013, 2, 200\\n',\n",
              " '2013-04-04, 2013, 1, 100\\n',\n",
              " '2013-06-21, 2013, 2, 200\\n',\n",
              " '2014-05-18, 2014, 1, 100\\n',\n",
              " '2014-06-23, 2014, 2, 200\\n',\n",
              " '2013-02-28, 2013, 1, 100\\n',\n",
              " '2013-08-02, 2013, 1, 100']"
            ]
          },
          "metadata": {
            "tags": []
          },
          "execution_count": 147
        }
      ]
    },
    {
      "cell_type": "code",
      "metadata": {
        "colab": {
          "base_uri": "https://localhost:8080/"
        },
        "id": "rw5uj62wHhzD",
        "outputId": "9994407f-78f1-420f-9031-9a98dbe92c89"
      },
      "source": [
        "with open('data.csv', 'r') as file:\r\n",
        "    x = file.readlines()\r\n",
        "\r\n",
        "x = [row[:-1] if row[-1] == '\\n' else row for row in x]\r\n",
        "x"
      ],
      "execution_count": 150,
      "outputs": [
        {
          "output_type": "execute_result",
          "data": {
            "text/plain": [
              "['Date, Year, CustomerID, Value',\n",
              " '2013-01-12, 2013, 1, 100',\n",
              " '2014-05-12, 2014, 1, 100',\n",
              " '2013-02-25, 2013, 2, 200',\n",
              " '2013-04-04, 2013, 1, 100',\n",
              " '2013-06-21, 2013, 2, 200',\n",
              " '2014-05-18, 2014, 1, 100',\n",
              " '2014-06-23, 2014, 2, 200',\n",
              " '2013-02-28, 2013, 1, 100',\n",
              " '2013-08-02, 2013, 1, 100']"
            ]
          },
          "metadata": {
            "tags": []
          },
          "execution_count": 150
        }
      ]
    },
    {
      "cell_type": "code",
      "metadata": {
        "colab": {
          "base_uri": "https://localhost:8080/"
        },
        "id": "7r0t6NV-H0qd",
        "outputId": "787e538e-3c2c-4712-e26b-176b287cac2b"
      },
      "source": [
        "with open('data.csv', 'r') as file:\r\n",
        "    x = file.readlines()\r\n",
        "\r\n",
        "x = [row[-1:] if row[-1] == '\\n' else row for row in x]\r\n",
        "x"
      ],
      "execution_count": 151,
      "outputs": [
        {
          "output_type": "execute_result",
          "data": {
            "text/plain": [
              "['\\n',\n",
              " '\\n',\n",
              " '\\n',\n",
              " '\\n',\n",
              " '\\n',\n",
              " '\\n',\n",
              " '\\n',\n",
              " '\\n',\n",
              " '\\n',\n",
              " '2013-08-02, 2013, 1, 100']"
            ]
          },
          "metadata": {
            "tags": []
          },
          "execution_count": 151
        }
      ]
    },
    {
      "cell_type": "code",
      "metadata": {
        "colab": {
          "base_uri": "https://localhost:8080/"
        },
        "id": "exbKZoUpIkSk",
        "outputId": "d8d80fa6-5e65-4d91-b986-5ede1b659a68"
      },
      "source": [
        "with open('data.csv', 'r') as file:\r\n",
        "    x = file.readlines()\r\n",
        "\r\n",
        "x = [row.replace('\\n', '') for row in x]\r\n",
        "x"
      ],
      "execution_count": 152,
      "outputs": [
        {
          "output_type": "execute_result",
          "data": {
            "text/plain": [
              "['Date, Year, CustomerID, Value',\n",
              " '2013-01-12, 2013, 1, 100',\n",
              " '2014-05-12, 2014, 1, 100',\n",
              " '2013-02-25, 2013, 2, 200',\n",
              " '2013-04-04, 2013, 1, 100',\n",
              " '2013-06-21, 2013, 2, 200',\n",
              " '2014-05-18, 2014, 1, 100',\n",
              " '2014-06-23, 2014, 2, 200',\n",
              " '2013-02-28, 2013, 1, 100',\n",
              " '2013-08-02, 2013, 1, 100']"
            ]
          },
          "metadata": {
            "tags": []
          },
          "execution_count": 152
        }
      ]
    },
    {
      "cell_type": "code",
      "metadata": {
        "colab": {
          "base_uri": "https://localhost:8080/"
        },
        "id": "VnYZDKFyI4BM",
        "outputId": "7d07ada7-82d3-4e0a-d96d-dfa345366564"
      },
      "source": [
        "with open('data.csv', 'r') as file:\r\n",
        "    x = file.readlines()\r\n",
        "\r\n",
        "x = [row.replace('\\n', '') for row in x]\r\n",
        "x = [row.split(',') for row in x]\r\n",
        "x"
      ],
      "execution_count": 153,
      "outputs": [
        {
          "output_type": "execute_result",
          "data": {
            "text/plain": [
              "[['Date', ' Year', ' CustomerID', ' Value'],\n",
              " ['2013-01-12', ' 2013', ' 1', ' 100'],\n",
              " ['2014-05-12', ' 2014', ' 1', ' 100'],\n",
              " ['2013-02-25', ' 2013', ' 2', ' 200'],\n",
              " ['2013-04-04', ' 2013', ' 1', ' 100'],\n",
              " ['2013-06-21', ' 2013', ' 2', ' 200'],\n",
              " ['2014-05-18', ' 2014', ' 1', ' 100'],\n",
              " ['2014-06-23', ' 2014', ' 2', ' 200'],\n",
              " ['2013-02-28', ' 2013', ' 1', ' 100'],\n",
              " ['2013-08-02', ' 2013', ' 1', ' 100']]"
            ]
          },
          "metadata": {
            "tags": []
          },
          "execution_count": 153
        }
      ]
    },
    {
      "cell_type": "code",
      "metadata": {
        "colab": {
          "base_uri": "https://localhost:8080/"
        },
        "id": "dvLtPV_rJIlb",
        "outputId": "a5be8ef9-718f-4838-912e-e38d02356369"
      },
      "source": [
        "[row[0] for row in x[1:]]"
      ],
      "execution_count": 154,
      "outputs": [
        {
          "output_type": "execute_result",
          "data": {
            "text/plain": [
              "['2013-01-12',\n",
              " '2014-05-12',\n",
              " '2013-02-25',\n",
              " '2013-04-04',\n",
              " '2013-06-21',\n",
              " '2014-05-18',\n",
              " '2014-06-23',\n",
              " '2013-02-28',\n",
              " '2013-08-02']"
            ]
          },
          "metadata": {
            "tags": []
          },
          "execution_count": 154
        }
      ]
    },
    {
      "cell_type": "code",
      "metadata": {
        "colab": {
          "base_uri": "https://localhost:8080/"
        },
        "id": "iRirME2CJjl0",
        "outputId": "15a1d1d4-4b4d-485f-b8ca-dbd212caa336"
      },
      "source": [
        "[row[0].split('-') for row in x[1:]]"
      ],
      "execution_count": 159,
      "outputs": [
        {
          "output_type": "execute_result",
          "data": {
            "text/plain": [
              "[['2013', '01', '12'],\n",
              " ['2014', '05', '12'],\n",
              " ['2013', '02', '25'],\n",
              " ['2013', '04', '04'],\n",
              " ['2013', '06', '21'],\n",
              " ['2014', '05', '18'],\n",
              " ['2014', '06', '23'],\n",
              " ['2013', '02', '28'],\n",
              " ['2013', '08', '02']]"
            ]
          },
          "metadata": {
            "tags": []
          },
          "execution_count": 159
        }
      ]
    },
    {
      "cell_type": "code",
      "metadata": {
        "colab": {
          "base_uri": "https://localhost:8080/"
        },
        "id": "lRmwh_5CJtnb",
        "outputId": "9f1323dd-97ed-4734-9f28-c3156bda653d"
      },
      "source": [
        "[row[0].split('-')[1] for row in x[1:]]"
      ],
      "execution_count": 160,
      "outputs": [
        {
          "output_type": "execute_result",
          "data": {
            "text/plain": [
              "['01', '05', '02', '04', '06', '05', '06', '02', '08']"
            ]
          },
          "metadata": {
            "tags": []
          },
          "execution_count": 160
        }
      ]
    },
    {
      "cell_type": "code",
      "metadata": {
        "id": "XK5FzEQ5KCX0"
      },
      "source": [
        ""
      ],
      "execution_count": null,
      "outputs": []
    },
    {
      "cell_type": "code",
      "metadata": {
        "colab": {
          "base_uri": "https://localhost:8080/"
        },
        "id": "HTyw3nAbLKJY",
        "outputId": "2e4353e4-4d0a-468b-f5a3-159a14483051"
      },
      "source": [
        "with open('data.csv', 'r') as file:\r\n",
        "    x = file.readlines()\r\n",
        "\r\n",
        "x = [row.replace('\\n', '') for row in x]\r\n",
        "x = [row.split(',') for row in x]\r\n",
        "x[1:] = [row + [row[0].split('-')[1]] for row in x[1:]]\r\n",
        "x[0].append('Month')\r\n",
        "x"
      ],
      "execution_count": 162,
      "outputs": [
        {
          "output_type": "execute_result",
          "data": {
            "text/plain": [
              "[['Date', ' Year', ' CustomerID', ' Value', 'Month'],\n",
              " ['2013-01-12', ' 2013', ' 1', ' 100', '01'],\n",
              " ['2014-05-12', ' 2014', ' 1', ' 100', '05'],\n",
              " ['2013-02-25', ' 2013', ' 2', ' 200', '02'],\n",
              " ['2013-04-04', ' 2013', ' 1', ' 100', '04'],\n",
              " ['2013-06-21', ' 2013', ' 2', ' 200', '06'],\n",
              " ['2014-05-18', ' 2014', ' 1', ' 100', '05'],\n",
              " ['2014-06-23', ' 2014', ' 2', ' 200', '06'],\n",
              " ['2013-02-28', ' 2013', ' 1', ' 100', '02'],\n",
              " ['2013-08-02', ' 2013', ' 1', ' 100', '08']]"
            ]
          },
          "metadata": {
            "tags": []
          },
          "execution_count": 162
        }
      ]
    },
    {
      "cell_type": "code",
      "metadata": {
        "colab": {
          "base_uri": "https://localhost:8080/"
        },
        "id": "m3AP0isuLUQn",
        "outputId": "5d756e00-0383-4477-8d95-7c9c321d334a"
      },
      "source": [
        "[row for row in x if row[1] == ' 2013']"
      ],
      "execution_count": 163,
      "outputs": [
        {
          "output_type": "execute_result",
          "data": {
            "text/plain": [
              "[['2013-01-12', ' 2013', ' 1', ' 100', '01'],\n",
              " ['2013-02-25', ' 2013', ' 2', ' 200', '02'],\n",
              " ['2013-04-04', ' 2013', ' 1', ' 100', '04'],\n",
              " ['2013-06-21', ' 2013', ' 2', ' 200', '06'],\n",
              " ['2013-02-28', ' 2013', ' 1', ' 100', '02'],\n",
              " ['2013-08-02', ' 2013', ' 1', ' 100', '08']]"
            ]
          },
          "metadata": {
            "tags": []
          },
          "execution_count": 163
        }
      ]
    },
    {
      "cell_type": "markdown",
      "metadata": {
        "id": "DG5KPYQwO25a"
      },
      "source": [
        "List\r\n",
        "\r\n"
      ]
    },
    {
      "cell_type": "code",
      "metadata": {
        "colab": {
          "base_uri": "https://localhost:8080/"
        },
        "id": "yhsMcNK6LdWf",
        "outputId": "770b3b4a-f7f8-4383-8816-a7ff16824a04"
      },
      "source": [
        "basket = {'apple', 'orange', 'apple', 'pear', 'orange', 'banana'}\r\n",
        "print(basket) "
      ],
      "execution_count": 164,
      "outputs": [
        {
          "output_type": "stream",
          "text": [
            "{'pear', 'apple', 'orange', 'banana'}\n"
          ],
          "name": "stdout"
        }
      ]
    },
    {
      "cell_type": "code",
      "metadata": {
        "colab": {
          "base_uri": "https://localhost:8080/"
        },
        "id": "5DW4WZc_O2Ls",
        "outputId": "50978024-89af-4bc5-bc51-57d6de4f4610"
      },
      "source": [
        "\r\n",
        "'orange' in basket # `in` se usa para determinar si el elemento está en el conjunto"
      ],
      "execution_count": 165,
      "outputs": [
        {
          "output_type": "execute_result",
          "data": {
            "text/plain": [
              "True"
            ]
          },
          "metadata": {
            "tags": []
          },
          "execution_count": 165
        }
      ]
    },
    {
      "cell_type": "code",
      "metadata": {
        "colab": {
          "base_uri": "https://localhost:8080/"
        },
        "id": "Km8ZySvCO700",
        "outputId": "e1972ec8-2582-49d0-fbd2-ec8026d59139"
      },
      "source": [
        "'crabgrass' in basket"
      ],
      "execution_count": 166,
      "outputs": [
        {
          "output_type": "execute_result",
          "data": {
            "text/plain": [
              "False"
            ]
          },
          "metadata": {
            "tags": []
          },
          "execution_count": 166
        }
      ]
    },
    {
      "cell_type": "code",
      "metadata": {
        "colab": {
          "base_uri": "https://localhost:8080/"
        },
        "id": "RBaKQIncO-Vb",
        "outputId": "c2b97f3c-5111-466d-98cc-fef1865a9dcc"
      },
      "source": [
        "set('abracadabra')"
      ],
      "execution_count": 167,
      "outputs": [
        {
          "output_type": "execute_result",
          "data": {
            "text/plain": [
              "{'a', 'b', 'c', 'd', 'r'}"
            ]
          },
          "metadata": {
            "tags": []
          },
          "execution_count": 167
        }
      ]
    },
    {
      "cell_type": "code",
      "metadata": {
        "colab": {
          "base_uri": "https://localhost:8080/"
        },
        "id": "dNkVV-ciPFIy",
        "outputId": "289a518e-328d-48a9-d857-cdd058c95e7e"
      },
      "source": [
        "x = [1, 2, 3, 4, 5, 4, 3]\r\n",
        "len(set(x))"
      ],
      "execution_count": 168,
      "outputs": [
        {
          "output_type": "execute_result",
          "data": {
            "text/plain": [
              "5"
            ]
          },
          "metadata": {
            "tags": []
          },
          "execution_count": 168
        }
      ]
    },
    {
      "cell_type": "code",
      "metadata": {
        "id": "6gIqahboPVv7"
      },
      "source": [
        "for w in set(x):\r\n",
        "    print(w, len([e for e in x if ]))"
      ],
      "execution_count": null,
      "outputs": []
    },
    {
      "cell_type": "code",
      "metadata": {
        "colab": {
          "base_uri": "https://localhost:8080/"
        },
        "id": "fqzrsSwmPgeY",
        "outputId": "f1bbc047-b575-427f-ea87-ab71fba6f0c2"
      },
      "source": [
        "\r\n",
        "a = set('abracadabra')    # el string se descompone en sus letras.\r\n",
        "b = set('alacazam')\r\n",
        "a, b                        # letras únicas en el string `a`."
      ],
      "execution_count": 169,
      "outputs": [
        {
          "output_type": "execute_result",
          "data": {
            "text/plain": [
              "({'a', 'b', 'c', 'd', 'r'}, {'a', 'c', 'l', 'm', 'z'})"
            ]
          },
          "metadata": {
            "tags": []
          },
          "execution_count": 169
        }
      ]
    },
    {
      "cell_type": "code",
      "metadata": {
        "colab": {
          "base_uri": "https://localhost:8080/"
        },
        "id": "7v_PbbXsPn_b",
        "outputId": "52e3cf48-2f8a-4f98-e67b-388b5b0e0076"
      },
      "source": [
        "a -b "
      ],
      "execution_count": 170,
      "outputs": [
        {
          "output_type": "execute_result",
          "data": {
            "text/plain": [
              "{'b', 'd', 'r'}"
            ]
          },
          "metadata": {
            "tags": []
          },
          "execution_count": 170
        }
      ]
    },
    {
      "cell_type": "code",
      "metadata": {
        "colab": {
          "base_uri": "https://localhost:8080/"
        },
        "id": "9TK7PEuCPpgL",
        "outputId": "39bbab6a-8a7f-4959-aea9-b418efc1bd69"
      },
      "source": [
        "a | b"
      ],
      "execution_count": 171,
      "outputs": [
        {
          "output_type": "execute_result",
          "data": {
            "text/plain": [
              "{'a', 'b', 'c', 'd', 'l', 'm', 'r', 'z'}"
            ]
          },
          "metadata": {
            "tags": []
          },
          "execution_count": 171
        }
      ]
    },
    {
      "cell_type": "code",
      "metadata": {
        "colab": {
          "base_uri": "https://localhost:8080/"
        },
        "id": "12HLKrSsPsKq",
        "outputId": "c9dd6347-1b00-4d6c-f6c6-05da4cc01728"
      },
      "source": [
        "a & b"
      ],
      "execution_count": 172,
      "outputs": [
        {
          "output_type": "execute_result",
          "data": {
            "text/plain": [
              "{'a', 'c'}"
            ]
          },
          "metadata": {
            "tags": []
          },
          "execution_count": 172
        }
      ]
    },
    {
      "cell_type": "code",
      "metadata": {
        "colab": {
          "base_uri": "https://localhost:8080/"
        },
        "id": "O2mUxW-0PuSS",
        "outputId": "e958e7ac-1226-41ee-d5db-e98d65f4b8fd"
      },
      "source": [
        "a ^ b"
      ],
      "execution_count": 173,
      "outputs": [
        {
          "output_type": "execute_result",
          "data": {
            "text/plain": [
              "{'b', 'd', 'l', 'm', 'r', 'z'}"
            ]
          },
          "metadata": {
            "tags": []
          },
          "execution_count": 173
        }
      ]
    },
    {
      "cell_type": "code",
      "metadata": {
        "colab": {
          "base_uri": "https://localhost:8080/"
        },
        "id": "jwWfh-CZPzg7",
        "outputId": "dd376134-d1fd-4afa-eb21-75bbf718c9e4"
      },
      "source": [
        "{x for x in 'abracadabra' if x not in 'abc'} # las llaves son de listas y los corchetes son de sets (conjuntos)"
      ],
      "execution_count": 174,
      "outputs": [
        {
          "output_type": "execute_result",
          "data": {
            "text/plain": [
              "{'d', 'r'}"
            ]
          },
          "metadata": {
            "tags": []
          },
          "execution_count": 174
        }
      ]
    },
    {
      "cell_type": "code",
      "metadata": {
        "id": "s6oEyaFRQKLL"
      },
      "source": [
        "x = {'a':1, 'b':2}"
      ],
      "execution_count": 176,
      "outputs": []
    },
    {
      "cell_type": "code",
      "metadata": {
        "colab": {
          "base_uri": "https://localhost:8080/"
        },
        "id": "PmTTcHQHQYKK",
        "outputId": "e5d26a9d-896e-4327-ff8b-73801e142fb2"
      },
      "source": [
        "x = {'b':2, 'a':1}\r\n",
        "x"
      ],
      "execution_count": 178,
      "outputs": [
        {
          "output_type": "execute_result",
          "data": {
            "text/plain": [
              "{'a': 1, 'b': 2}"
            ]
          },
          "metadata": {
            "tags": []
          },
          "execution_count": 178
        }
      ]
    },
    {
      "cell_type": "code",
      "metadata": {
        "colab": {
          "base_uri": "https://localhost:8080/"
        },
        "id": "KnTo2iqNQjQC",
        "outputId": "9214d8d2-b177-4f45-beb6-5d31539d1b98"
      },
      "source": [
        "x['a']"
      ],
      "execution_count": 179,
      "outputs": [
        {
          "output_type": "execute_result",
          "data": {
            "text/plain": [
              "1"
            ]
          },
          "metadata": {
            "tags": []
          },
          "execution_count": 179
        }
      ]
    },
    {
      "cell_type": "code",
      "metadata": {
        "colab": {
          "base_uri": "https://localhost:8080/"
        },
        "id": "XZ-BceCVQpu7",
        "outputId": "4fe3b9e0-62c6-417d-8f5e-fe456d51d570"
      },
      "source": [
        "x['b']"
      ],
      "execution_count": 180,
      "outputs": [
        {
          "output_type": "execute_result",
          "data": {
            "text/plain": [
              "2"
            ]
          },
          "metadata": {
            "tags": []
          },
          "execution_count": 180
        }
      ]
    },
    {
      "cell_type": "code",
      "metadata": {
        "colab": {
          "base_uri": "https://localhost:8080/"
        },
        "id": "vFdEgTImQs8T",
        "outputId": "d102d3ac-c9bd-4078-c1be-a47d2d302dd8"
      },
      "source": [
        "x[0] = 999\r\n",
        "x"
      ],
      "execution_count": 182,
      "outputs": [
        {
          "output_type": "execute_result",
          "data": {
            "text/plain": [
              "{0: 999, 'a': 1, 'b': 2}"
            ]
          },
          "metadata": {
            "tags": []
          },
          "execution_count": 182
        }
      ]
    },
    {
      "cell_type": "code",
      "metadata": {
        "id": "HgGlXMNbQyzr"
      },
      "source": [
        "\r\n"
      ],
      "execution_count": null,
      "outputs": []
    },
    {
      "cell_type": "code",
      "metadata": {
        "id": "WG5V9mZQRiFh"
      },
      "source": [
        ""
      ],
      "execution_count": null,
      "outputs": []
    },
    {
      "cell_type": "code",
      "metadata": {
        "id": "rgzVK6ZHRiI4"
      },
      "source": [
        ""
      ],
      "execution_count": null,
      "outputs": []
    },
    {
      "cell_type": "code",
      "metadata": {
        "id": "W_JpTc_MRiMk"
      },
      "source": [
        "dict([('a', 1), ()], )"
      ],
      "execution_count": null,
      "outputs": []
    },
    {
      "cell_type": "code",
      "metadata": {
        "id": "ammzijrHSMsm"
      },
      "source": [
        "## ejemplo tipico de programacion \r\n",
        "\r\n",
        "clave = 'a'\r\n",
        "\r\n",
        "if clave == 'a':\r\n",
        "  x = 1\r\n",
        "elif clave == 'b':\r\n",
        "  x = 2\r\n",
        "elif clave == 'c':\r\n",
        "  x = 3"
      ],
      "execution_count": 183,
      "outputs": []
    },
    {
      "cell_type": "code",
      "metadata": {
        "id": "W24u_Pz2SpPM"
      },
      "source": [
        ""
      ],
      "execution_count": null,
      "outputs": []
    },
    {
      "cell_type": "code",
      "metadata": {
        "id": "4Au875anSsH3"
      },
      "source": [
        ""
      ],
      "execution_count": null,
      "outputs": []
    },
    {
      "cell_type": "code",
      "metadata": {
        "colab": {
          "base_uri": "https://localhost:8080/",
          "height": 231
        },
        "id": "MQBYnBZkSsQw",
        "outputId": "dc03436a-0b26-4084-8532-3d22da36d95d"
      },
      "source": [
        "m = [1, 2, 3, 4, 2, 1, 5, 3, 2, 3, 1]\r\n",
        "\r\n",
        "conteo = dict()\r\n",
        "for elem in m:\r\n",
        "    if elem in conteo.key():\r\n",
        "      conteo[elem] += 1\r\n",
        "    else:\r\n",
        "      conteo[elem] = 1\r\n",
        "\r\n",
        "conteo"
      ],
      "execution_count": 184,
      "outputs": [
        {
          "output_type": "error",
          "ename": "AttributeError",
          "evalue": "ignored",
          "traceback": [
            "\u001b[0;31m---------------------------------------------------------------------------\u001b[0m",
            "\u001b[0;31mAttributeError\u001b[0m                            Traceback (most recent call last)",
            "\u001b[0;32m<ipython-input-184-f8148e3a551d>\u001b[0m in \u001b[0;36m<module>\u001b[0;34m()\u001b[0m\n\u001b[1;32m      3\u001b[0m \u001b[0mconteo\u001b[0m \u001b[0;34m=\u001b[0m \u001b[0mdict\u001b[0m\u001b[0;34m(\u001b[0m\u001b[0;34m)\u001b[0m\u001b[0;34m\u001b[0m\u001b[0;34m\u001b[0m\u001b[0m\n\u001b[1;32m      4\u001b[0m \u001b[0;32mfor\u001b[0m \u001b[0melem\u001b[0m \u001b[0;32min\u001b[0m \u001b[0mm\u001b[0m\u001b[0;34m:\u001b[0m\u001b[0;34m\u001b[0m\u001b[0;34m\u001b[0m\u001b[0m\n\u001b[0;32m----> 5\u001b[0;31m     \u001b[0;32mif\u001b[0m \u001b[0melem\u001b[0m \u001b[0;32min\u001b[0m \u001b[0mconteo\u001b[0m\u001b[0;34m.\u001b[0m\u001b[0mkey\u001b[0m\u001b[0;34m(\u001b[0m\u001b[0;34m)\u001b[0m\u001b[0;34m:\u001b[0m\u001b[0;34m\u001b[0m\u001b[0;34m\u001b[0m\u001b[0m\n\u001b[0m\u001b[1;32m      6\u001b[0m       \u001b[0mconteo\u001b[0m\u001b[0;34m[\u001b[0m\u001b[0melem\u001b[0m\u001b[0;34m]\u001b[0m \u001b[0;34m+=\u001b[0m \u001b[0;36m1\u001b[0m\u001b[0;34m\u001b[0m\u001b[0;34m\u001b[0m\u001b[0m\n\u001b[1;32m      7\u001b[0m     \u001b[0;32melse\u001b[0m\u001b[0;34m:\u001b[0m\u001b[0;34m\u001b[0m\u001b[0;34m\u001b[0m\u001b[0m\n",
            "\u001b[0;31mAttributeError\u001b[0m: 'dict' object has no attribute 'key'"
          ]
        }
      ]
    },
    {
      "cell_type": "code",
      "metadata": {
        "id": "rwhmvWApTK57"
      },
      "source": [
        ""
      ],
      "execution_count": null,
      "outputs": []
    },
    {
      "cell_type": "code",
      "metadata": {
        "colab": {
          "base_uri": "https://localhost:8080/"
        },
        "id": "q7IsyEapTYew",
        "outputId": "d898dc03-207c-4643-c3de-73cfefa2d917"
      },
      "source": [
        "s = \"hola, mundo.\"\r\n",
        "print(s)"
      ],
      "execution_count": 186,
      "outputs": [
        {
          "output_type": "stream",
          "text": [
            "hola, mundo.\n"
          ],
          "name": "stdout"
        }
      ]
    },
    {
      "cell_type": "code",
      "metadata": {
        "colab": {
          "base_uri": "https://localhost:8080/",
          "height": 35
        },
        "id": "-Sj4-OKNTblT",
        "outputId": "8d981f0a-cf97-4258-d4f6-665476a98bf8"
      },
      "source": [
        "str(s)"
      ],
      "execution_count": 187,
      "outputs": [
        {
          "output_type": "execute_result",
          "data": {
            "application/vnd.google.colaboratory.intrinsic+json": {
              "type": "string"
            },
            "text/plain": [
              "'hola, mundo.'"
            ]
          },
          "metadata": {
            "tags": []
          },
          "execution_count": 187
        }
      ]
    },
    {
      "cell_type": "code",
      "metadata": {
        "colab": {
          "base_uri": "https://localhost:8080/",
          "height": 35
        },
        "id": "30ImDWf8TfXa",
        "outputId": "64e4b921-b9b5-45ea-e254-3be741103524"
      },
      "source": [
        "repr(s)"
      ],
      "execution_count": 188,
      "outputs": [
        {
          "output_type": "execute_result",
          "data": {
            "application/vnd.google.colaboratory.intrinsic+json": {
              "type": "string"
            },
            "text/plain": [
              "\"'hola, mundo.'\""
            ]
          },
          "metadata": {
            "tags": []
          },
          "execution_count": 188
        }
      ]
    },
    {
      "cell_type": "code",
      "metadata": {
        "colab": {
          "base_uri": "https://localhost:8080/"
        },
        "id": "SsT2btakTh57",
        "outputId": "bbcdbb37-4840-4e17-e2c5-bede76725856"
      },
      "source": [
        "x = 10 * 3.21 \r\n",
        "y = 20 * 20\r\n",
        "s = \"El Valor de x es \" + repr(x) + \", y el de 'y' es \" + repr(y) + \" ....\"\r\n",
        "print(s)"
      ],
      "execution_count": 191,
      "outputs": [
        {
          "output_type": "stream",
          "text": [
            "El Valor de x es 32.1, y el de 'y' es 400 ....\n"
          ],
          "name": "stdout"
        }
      ]
    },
    {
      "cell_type": "code",
      "metadata": {
        "colab": {
          "base_uri": "https://localhost:8080/"
        },
        "id": "rsy4wlNLT-76",
        "outputId": "4564b822-0361-4c11-a2ec-d5a1623212e1"
      },
      "source": [
        "for x in range(1, 11):\r\n",
        "    print(x, x**2, x**3)"
      ],
      "execution_count": 192,
      "outputs": [
        {
          "output_type": "stream",
          "text": [
            "1 1 1\n",
            "2 4 8\n",
            "3 9 27\n",
            "4 16 64\n",
            "5 25 125\n",
            "6 36 216\n",
            "7 49 343\n",
            "8 64 512\n",
            "9 81 729\n",
            "10 100 1000\n"
          ],
          "name": "stdout"
        }
      ]
    },
    {
      "cell_type": "code",
      "metadata": {
        "colab": {
          "base_uri": "https://localhost:8080/"
        },
        "id": "gYkMyXBVUXt5",
        "outputId": "955301ec-3984-42de-af9e-65eaa0b1492d"
      },
      "source": [
        "for x in range(1, 11):\r\n",
        "    print(\r\n",
        "        repr(x).rjust(2),\r\n",
        "        repr(x**2).rjust(4),\r\n",
        "        repr( x**3).rjust(7)\r\n",
        "        )\r\n",
        "    \r\n"
      ],
      "execution_count": 193,
      "outputs": [
        {
          "output_type": "stream",
          "text": [
            " 1    1       1\n",
            " 2    4       8\n",
            " 3    9      27\n",
            " 4   16      64\n",
            " 5   25     125\n",
            " 6   36     216\n",
            " 7   49     343\n",
            " 8   64     512\n",
            " 9   81     729\n",
            "10  100    1000\n"
          ],
          "name": "stdout"
        }
      ]
    },
    {
      "cell_type": "code",
      "metadata": {
        "colab": {
          "base_uri": "https://localhost:8080/"
        },
        "id": "tTGBfETTUyni",
        "outputId": "d29323dc-005b-4f89-8a36-b7457c3d91f8"
      },
      "source": [
        "for x in range(1, 11):\r\n",
        "  print('{:2d}*{:<4d}*{:>6d}*{:>5s}'.format(x, x**2, x**3, 'a'))"
      ],
      "execution_count": 194,
      "outputs": [
        {
          "output_type": "stream",
          "text": [
            " 1*1   *     1*    a\n",
            " 2*4   *     8*    a\n",
            " 3*9   *    27*    a\n",
            " 4*16  *    64*    a\n",
            " 5*25  *   125*    a\n",
            " 6*36  *   216*    a\n",
            " 7*49  *   343*    a\n",
            " 8*64  *   512*    a\n",
            " 9*81  *   729*    a\n",
            "10*100 *  1000*    a\n"
          ],
          "name": "stdout"
        }
      ]
    },
    {
      "cell_type": "code",
      "metadata": {
        "colab": {
          "base_uri": "https://localhost:8080/",
          "height": 35
        },
        "id": "u4Cm-W2XVdtz",
        "outputId": "333bca84-c02f-4a34-bfd8-3f8249df81f9"
      },
      "source": [
        "'12'.zfill(5)"
      ],
      "execution_count": 195,
      "outputs": [
        {
          "output_type": "execute_result",
          "data": {
            "application/vnd.google.colaboratory.intrinsic+json": {
              "type": "string"
            },
            "text/plain": [
              "'00012'"
            ]
          },
          "metadata": {
            "tags": []
          },
          "execution_count": 195
        }
      ]
    },
    {
      "cell_type": "code",
      "metadata": {
        "colab": {
          "base_uri": "https://localhost:8080/",
          "height": 35
        },
        "id": "BS9L0zGmVl5z",
        "outputId": "e3584aca-d40d-482d-9f66-7601702904b0"
      },
      "source": [
        "'-3.12'.zfill(7)"
      ],
      "execution_count": 196,
      "outputs": [
        {
          "output_type": "execute_result",
          "data": {
            "application/vnd.google.colaboratory.intrinsic+json": {
              "type": "string"
            },
            "text/plain": [
              "'-003.12'"
            ]
          },
          "metadata": {
            "tags": []
          },
          "execution_count": 196
        }
      ]
    },
    {
      "cell_type": "code",
      "metadata": {
        "id": "0FqILEupcii4"
      },
      "source": [
        ""
      ],
      "execution_count": null,
      "outputs": []
    },
    {
      "cell_type": "code",
      "metadata": {
        "id": "Pgug3tIoci8C"
      },
      "source": [
        ""
      ],
      "execution_count": null,
      "outputs": []
    },
    {
      "cell_type": "code",
      "metadata": {
        "id": "wPeuZQzWci_M"
      },
      "source": [
        ""
      ],
      "execution_count": null,
      "outputs": []
    },
    {
      "cell_type": "markdown",
      "metadata": {
        "id": "ZicNzwNqclN3"
      },
      "source": [
        "\r\n",
        "\r\n",
        "Si escalamos esto a 1M de datos que hacemos? entonces esto se hace bien dificil.."
      ]
    },
    {
      "cell_type": "code",
      "metadata": {
        "id": "puHheym_cziV"
      },
      "source": [
        "!mkdir directory\r\n"
      ],
      "execution_count": 197,
      "outputs": []
    },
    {
      "cell_type": "code",
      "metadata": {
        "colab": {
          "base_uri": "https://localhost:8080/"
        },
        "id": "QAvL9t3oc5ja",
        "outputId": "8e8cdc27-d2ec-4120-9c8f-db34e698ab43"
      },
      "source": [
        "%%writefile directory/file1.csv\r\n",
        "a,1,12\r\n",
        "b,2,13\r\n",
        "c,,'14'\r\n",
        "0,\\N,15\r\n",
        "a,\\N,'0'\r\n",
        "e,,\r\n",
        "0,\r\n",
        "\\N,,\r\n",
        ",,\r\n",
        "a,0,0\r\n",
        "\\n,\\n,\\n\r\n"
      ],
      "execution_count": 199,
      "outputs": [
        {
          "output_type": "stream",
          "text": [
            "Writing directory/file1.csv\n"
          ],
          "name": "stdout"
        }
      ]
    },
    {
      "cell_type": "code",
      "metadata": {
        "colab": {
          "base_uri": "https://localhost:8080/"
        },
        "id": "euffxqqrdE85",
        "outputId": "3133703d-4d32-4540-8809-5bc6da272a57"
      },
      "source": [
        "%%writefile directory/file2.csv\r\n",
        "b,1,12\r\n",
        "a,2,13\r\n",
        "d,,14\r\n",
        "0,\\N,15\r\n",
        "\\n\r\n",
        "\\n\r\n",
        "\r\n",
        "e,,\r\n",
        ",,,\r\n",
        "K,3,\\n"
      ],
      "execution_count": 200,
      "outputs": [
        {
          "output_type": "stream",
          "text": [
            "Writing directory/file2.csv\n"
          ],
          "name": "stdout"
        }
      ]
    },
    {
      "cell_type": "code",
      "metadata": {
        "colab": {
          "base_uri": "https://localhost:8080/"
        },
        "id": "hsOuzJ66deLa",
        "outputId": "5a1f5d84-1831-4453-e84e-2ecf880058ae"
      },
      "source": [
        "\r\n",
        "%%writefile directory/file3.csv\r\n",
        "b;1;12\r\n",
        "'a';4;13\r\n",
        "a;3;13\r\n",
        "\r\n",
        "'c';3;17\r\n",
        "'a';'\\n';'15'\r\n",
        "E;2;0"
      ],
      "execution_count": 201,
      "outputs": [
        {
          "output_type": "stream",
          "text": [
            "Writing directory/file3.csv\n"
          ],
          "name": "stdout"
        }
      ]
    },
    {
      "cell_type": "code",
      "metadata": {
        "colab": {
          "base_uri": "https://localhost:8080/"
        },
        "id": "H-H0gAKMdg3K",
        "outputId": "aa600ace-da03-4983-88fa-792a0fb710fd"
      },
      "source": [
        "!ls directory/*.csv"
      ],
      "execution_count": 202,
      "outputs": [
        {
          "output_type": "stream",
          "text": [
            "directory/file1.csv  directory/file2.csv  directory/file3.csv\n"
          ],
          "name": "stdout"
        }
      ]
    },
    {
      "cell_type": "code",
      "metadata": {
        "colab": {
          "base_uri": "https://localhost:8080/"
        },
        "id": "2BJUodFiePAL",
        "outputId": "f67a9b42-d69d-4665-dc1d-c1792f781449"
      },
      "source": [
        "filesnames = !ls -1 directory/*.csv\r\n",
        "filesnames"
      ],
      "execution_count": 204,
      "outputs": [
        {
          "output_type": "execute_result",
          "data": {
            "text/plain": [
              "['directory/file1.csv', 'directory/file2.csv', 'directory/file3.csv']"
            ]
          },
          "metadata": {
            "tags": []
          },
          "execution_count": 204
        }
      ]
    },
    {
      "cell_type": "code",
      "metadata": {
        "colab": {
          "base_uri": "https://localhost:8080/"
        },
        "id": "LvN8MGBPeUxB",
        "outputId": "8e968a0b-79a8-42e6-db1a-1b1eba532476"
      },
      "source": [
        "import glob\r\n",
        "\r\n",
        "filesnames = glob.glob('directory/*.csv')\r\n",
        "filesnames"
      ],
      "execution_count": 205,
      "outputs": [
        {
          "output_type": "execute_result",
          "data": {
            "text/plain": [
              "['directory/file2.csv', 'directory/file1.csv', 'directory/file3.csv']"
            ]
          },
          "metadata": {
            "tags": []
          },
          "execution_count": 205
        }
      ]
    },
    {
      "cell_type": "code",
      "metadata": {
        "colab": {
          "base_uri": "https://localhost:8080/"
        },
        "id": "rAc5OFTqereM",
        "outputId": "074eb0c8-6b8e-4715-f8ac-9ec6cc9a133a"
      },
      "source": [
        "text = []\r\n",
        "\r\n",
        "for filesnames in filesnames:\r\n",
        "  with open(filesnames, 'rt') as file:\r\n",
        "      text += file.readlines()\r\n",
        "\r\n",
        "text"
      ],
      "execution_count": 206,
      "outputs": [
        {
          "output_type": "execute_result",
          "data": {
            "text/plain": [
              "['b,1,12\\n',\n",
              " 'a,2,13\\n',\n",
              " 'd,,14\\n',\n",
              " '0,\\\\N,15\\n',\n",
              " '\\\\n\\n',\n",
              " '\\\\n\\n',\n",
              " '\\n',\n",
              " 'e,,\\n',\n",
              " ',,,\\n',\n",
              " 'K,3,\\\\n',\n",
              " 'a,1,12\\n',\n",
              " 'b,2,13\\n',\n",
              " \"c,,'14'\\n\",\n",
              " '0,\\\\N,15\\n',\n",
              " \"a,\\\\N,'0'\\n\",\n",
              " 'e,,\\n',\n",
              " '0,\\n',\n",
              " '\\\\N,,\\n',\n",
              " ',,\\n',\n",
              " 'a,0,0\\n',\n",
              " '\\\\n,\\\\n,\\\\n',\n",
              " 'b;1;12\\n',\n",
              " \"'a';4;13\\n\",\n",
              " 'a;3;13\\n',\n",
              " '\\n',\n",
              " \"'c';3;17\\n\",\n",
              " \"'a';'\\\\n';'15'\\n\",\n",
              " 'E;2;0']"
            ]
          },
          "metadata": {
            "tags": []
          },
          "execution_count": 206
        }
      ]
    },
    {
      "cell_type": "code",
      "metadata": {
        "colab": {
          "base_uri": "https://localhost:8080/"
        },
        "id": "vjfAt6b7fF2y",
        "outputId": "29ecfdcc-4ddf-4204-96ec-41e8c03cf707"
      },
      "source": [
        "# eleimino el retrono de k \r\n",
        "\r\n",
        "text = [line.replace('\\n', '') for line in text]\r\n",
        "text"
      ],
      "execution_count": 207,
      "outputs": [
        {
          "output_type": "execute_result",
          "data": {
            "text/plain": [
              "['b,1,12',\n",
              " 'a,2,13',\n",
              " 'd,,14',\n",
              " '0,\\\\N,15',\n",
              " '\\\\n',\n",
              " '\\\\n',\n",
              " '',\n",
              " 'e,,',\n",
              " ',,,',\n",
              " 'K,3,\\\\n',\n",
              " 'a,1,12',\n",
              " 'b,2,13',\n",
              " \"c,,'14'\",\n",
              " '0,\\\\N,15',\n",
              " \"a,\\\\N,'0'\",\n",
              " 'e,,',\n",
              " '0,',\n",
              " '\\\\N,,',\n",
              " ',,',\n",
              " 'a,0,0',\n",
              " '\\\\n,\\\\n,\\\\n',\n",
              " 'b;1;12',\n",
              " \"'a';4;13\",\n",
              " 'a;3;13',\n",
              " '',\n",
              " \"'c';3;17\",\n",
              " \"'a';'\\\\n';'15'\",\n",
              " 'E;2;0']"
            ]
          },
          "metadata": {
            "tags": []
          },
          "execution_count": 207
        }
      ]
    },
    {
      "cell_type": "code",
      "metadata": {
        "colab": {
          "base_uri": "https://localhost:8080/"
        },
        "id": "jGCfLJb7ffpS",
        "outputId": "22f2be8c-d318-48ba-bdd2-7f9af8e51493"
      },
      "source": [
        "## codigo diagnostico \r\n",
        "\r\n",
        "csv = [line.split(',') for line in text]\r\n",
        "\r\n",
        "for line in csv:\r\n",
        "    if len(line) !=3:\r\n",
        "      print(line)"
      ],
      "execution_count": 208,
      "outputs": [
        {
          "output_type": "stream",
          "text": [
            "['\\\\n']\n",
            "['\\\\n']\n",
            "['']\n",
            "['', '', '', '']\n",
            "['0', '']\n",
            "['b;1;12']\n",
            "[\"'a';4;13\"]\n",
            "['a;3;13']\n",
            "['']\n",
            "[\"'c';3;17\"]\n",
            "[\"'a';'\\\\n';'15'\"]\n",
            "['E;2;0']\n"
          ],
          "name": "stdout"
        }
      ]
    },
    {
      "cell_type": "code",
      "metadata": {
        "colab": {
          "base_uri": "https://localhost:8080/"
        },
        "id": "mIOKYP1ugpaZ",
        "outputId": "eea3c30b-4861-4b21-8835-3e912459a9ce"
      },
      "source": [
        "text = [line.replace(';', ',') for line in text]\r\n",
        "\r\n",
        "csv = [line.split(',') for line in text]\r\n",
        "\r\n",
        "for line in csv:\r\n",
        "    if len(line) !=3:\r\n",
        "      print(line)"
      ],
      "execution_count": 209,
      "outputs": [
        {
          "output_type": "stream",
          "text": [
            "['\\\\n']\n",
            "['\\\\n']\n",
            "['']\n",
            "['', '', '', '']\n",
            "['0', '']\n",
            "['']\n"
          ],
          "name": "stdout"
        }
      ]
    },
    {
      "cell_type": "code",
      "metadata": {
        "colab": {
          "base_uri": "https://localhost:8080/"
        },
        "id": "GcbbLXCHg70q",
        "outputId": "31c65257-89ff-4529-a81b-1d89a957d636"
      },
      "source": [
        "text = [line for line in text if line !='']\r\n",
        "\r\n",
        "csv = [line.split(',') for line in text]\r\n",
        "\r\n",
        "for line in csv:\r\n",
        "    if len(line) !=3:\r\n",
        "      print(line)"
      ],
      "execution_count": 210,
      "outputs": [
        {
          "output_type": "stream",
          "text": [
            "['\\\\n']\n",
            "['\\\\n']\n",
            "['', '', '', '']\n",
            "['0', '']\n"
          ],
          "name": "stdout"
        }
      ]
    },
    {
      "cell_type": "code",
      "metadata": {
        "colab": {
          "base_uri": "https://localhost:8080/"
        },
        "id": "XwwQBFK8hgwh",
        "outputId": "2db0d7f6-0e98-4bd9-8776-20d677ead3e9"
      },
      "source": [
        "csv = [line.split(',') for line in  text]\r\n",
        "csv = [line for line in csv if len(line) == 3]\r\n",
        "csv"
      ],
      "execution_count": 211,
      "outputs": [
        {
          "output_type": "execute_result",
          "data": {
            "text/plain": [
              "[['b', '1', '12'],\n",
              " ['a', '2', '13'],\n",
              " ['d', '', '14'],\n",
              " ['0', '\\\\N', '15'],\n",
              " ['e', '', ''],\n",
              " ['K', '3', '\\\\n'],\n",
              " ['a', '1', '12'],\n",
              " ['b', '2', '13'],\n",
              " ['c', '', \"'14'\"],\n",
              " ['0', '\\\\N', '15'],\n",
              " ['a', '\\\\N', \"'0'\"],\n",
              " ['e', '', ''],\n",
              " ['\\\\N', '', ''],\n",
              " ['', '', ''],\n",
              " ['a', '0', '0'],\n",
              " ['\\\\n', '\\\\n', '\\\\n'],\n",
              " ['b', '1', '12'],\n",
              " [\"'a'\", '4', '13'],\n",
              " ['a', '3', '13'],\n",
              " [\"'c'\", '3', '17'],\n",
              " [\"'a'\", \"'\\\\n'\", \"'15'\"],\n",
              " ['E', '2', '0']]"
            ]
          },
          "metadata": {
            "tags": []
          },
          "execution_count": 211
        }
      ]
    },
    {
      "cell_type": "code",
      "metadata": {
        "colab": {
          "base_uri": "https://localhost:8080/"
        },
        "id": "-Y0t9ix-iNG5",
        "outputId": "f9c9da8d-983f-4f7b-f5c8-ebbe65b53c06"
      },
      "source": [
        " for line in csv:\r\n",
        "      if line[0] not in list('abcde') + ['\\\\N']:\r\n",
        "          print(line)"
      ],
      "execution_count": 213,
      "outputs": [
        {
          "output_type": "stream",
          "text": [
            "['0', '\\\\N', '15']\n",
            "['K', '3', '\\\\n']\n",
            "['0', '\\\\N', '15']\n",
            "['', '', '']\n",
            "['\\\\n', '\\\\n', '\\\\n']\n",
            "[\"'a'\", '4', '13']\n",
            "[\"'c'\", '3', '17']\n",
            "[\"'a'\", \"'\\\\n'\", \"'15'\"]\n",
            "['E', '2', '0']\n"
          ],
          "name": "stdout"
        }
      ]
    },
    {
      "cell_type": "code",
      "metadata": {
        "colab": {
          "base_uri": "https://localhost:8080/"
        },
        "id": "rixnPSAvi26I",
        "outputId": "98a913c4-8f68-4dd5-cba0-4f77cfd0f414"
      },
      "source": [
        "csv = [ [line[0][1]] + line[1:] if len(line[0]) == 3 else line for line in csv]\r\n",
        "\r\n",
        "for line in csv:\r\n",
        "    if line[0] not in list('abcde') + ['\\\\N']:\r\n",
        "        print(line)"
      ],
      "execution_count": 215,
      "outputs": [
        {
          "output_type": "stream",
          "text": [
            "['0', '\\\\N', '15']\n",
            "['K', '3', '\\\\n']\n",
            "['0', '\\\\N', '15']\n",
            "['', '', '']\n",
            "['\\\\n', '\\\\n', '\\\\n']\n",
            "['E', '2', '0']\n"
          ],
          "name": "stdout"
        }
      ]
    },
    {
      "cell_type": "code",
      "metadata": {
        "colab": {
          "base_uri": "https://localhost:8080/"
        },
        "id": "UXlonWJvkQIQ",
        "outputId": "fe3fbd49-aa29-4aa0-fd88-9ee310e1c4aa"
      },
      "source": [
        "csv = [ [line[0].lower()] + line[1:] for line in csv]\r\n",
        "\r\n",
        "for line in csv:\r\n",
        "    if line[0] not in list('abcde') + ['\\\\N']:\r\n",
        "        print(line)"
      ],
      "execution_count": 219,
      "outputs": [
        {
          "output_type": "stream",
          "text": [
            "['\\\\n', '\\\\N', '15']\n",
            "['\\\\n', '', '']\n",
            "['\\\\n', '3', '\\\\n']\n",
            "['\\\\n', '\\\\N', '15']\n",
            "['\\\\n', '', '']\n",
            "['\\\\n', '', '']\n",
            "['\\\\n', '', '']\n",
            "['\\\\n', '\\\\n', '\\\\n']\n",
            "['\\\\n', '2', '0']\n"
          ],
          "name": "stdout"
        }
      ]
    },
    {
      "cell_type": "code",
      "metadata": {
        "id": "TFurZ5fOk-sI"
      },
      "source": [
        "csv = [ ['\\\\N'] + line[1:] if line[0] not in list('abcd') + ['\\\\N'] else line  for line in csv]\r\n",
        "\r\n",
        "for line in csv:\r\n",
        "    if line[0] not in list('abcde') + ['\\\\N']:\r\n",
        "        print(line)"
      ],
      "execution_count": 218,
      "outputs": []
    },
    {
      "cell_type": "code",
      "metadata": {
        "id": "eKiXWhj6louZ"
      },
      "source": [
        ""
      ],
      "execution_count": null,
      "outputs": []
    },
    {
      "cell_type": "code",
      "metadata": {
        "id": "g1imzhwol2Ep"
      },
      "source": [
        "text = [','.join(line) for line in csv]\r\n",
        "text = [line.replace('\\\\N', \\\\)]"
      ],
      "execution_count": null,
      "outputs": []
    },
    {
      "cell_type": "code",
      "metadata": {
        "id": "IoXCuNpAmVLR"
      },
      "source": [
        ""
      ],
      "execution_count": null,
      "outputs": []
    },
    {
      "cell_type": "code",
      "metadata": {
        "id": "wHTfcy7ymVPM"
      },
      "source": [
        ""
      ],
      "execution_count": null,
      "outputs": []
    },
    {
      "cell_type": "code",
      "metadata": {
        "colab": {
          "base_uri": "https://localhost:8080/",
          "height": 238
        },
        "id": "uXrwykOcmVS-",
        "outputId": "dd49a9c1-5b73-4d04-d2ca-83778bb2a562"
      },
      "source": [
        "csv = [['\\\\N' if colum == '' else column  for colum in line] for line in csv]"
      ],
      "execution_count": 220,
      "outputs": [
        {
          "output_type": "error",
          "ename": "NameError",
          "evalue": "ignored",
          "traceback": [
            "\u001b[0;31m---------------------------------------------------------------------------\u001b[0m",
            "\u001b[0;31mNameError\u001b[0m                                 Traceback (most recent call last)",
            "\u001b[0;32m<ipython-input-220-a234108d8399>\u001b[0m in \u001b[0;36m<module>\u001b[0;34m()\u001b[0m\n\u001b[0;32m----> 1\u001b[0;31m \u001b[0mcsv\u001b[0m \u001b[0;34m=\u001b[0m \u001b[0;34m[\u001b[0m\u001b[0;34m[\u001b[0m\u001b[0;34m'\\\\N'\u001b[0m \u001b[0;32mif\u001b[0m \u001b[0mcolum\u001b[0m \u001b[0;34m==\u001b[0m \u001b[0;34m''\u001b[0m \u001b[0;32melse\u001b[0m \u001b[0mcolumn\u001b[0m  \u001b[0;32mfor\u001b[0m \u001b[0mcolum\u001b[0m \u001b[0;32min\u001b[0m \u001b[0mline\u001b[0m\u001b[0;34m]\u001b[0m \u001b[0;32mfor\u001b[0m \u001b[0mline\u001b[0m \u001b[0;32min\u001b[0m \u001b[0mcsv\u001b[0m\u001b[0;34m]\u001b[0m\u001b[0;34m\u001b[0m\u001b[0;34m\u001b[0m\u001b[0m\n\u001b[0m",
            "\u001b[0;32m<ipython-input-220-a234108d8399>\u001b[0m in \u001b[0;36m<listcomp>\u001b[0;34m(.0)\u001b[0m\n\u001b[0;32m----> 1\u001b[0;31m \u001b[0mcsv\u001b[0m \u001b[0;34m=\u001b[0m \u001b[0;34m[\u001b[0m\u001b[0;34m[\u001b[0m\u001b[0;34m'\\\\N'\u001b[0m \u001b[0;32mif\u001b[0m \u001b[0mcolum\u001b[0m \u001b[0;34m==\u001b[0m \u001b[0;34m''\u001b[0m \u001b[0;32melse\u001b[0m \u001b[0mcolumn\u001b[0m  \u001b[0;32mfor\u001b[0m \u001b[0mcolum\u001b[0m \u001b[0;32min\u001b[0m \u001b[0mline\u001b[0m\u001b[0;34m]\u001b[0m \u001b[0;32mfor\u001b[0m \u001b[0mline\u001b[0m \u001b[0;32min\u001b[0m \u001b[0mcsv\u001b[0m\u001b[0;34m]\u001b[0m\u001b[0;34m\u001b[0m\u001b[0;34m\u001b[0m\u001b[0m\n\u001b[0m",
            "\u001b[0;32m<ipython-input-220-a234108d8399>\u001b[0m in \u001b[0;36m<listcomp>\u001b[0;34m(.0)\u001b[0m\n\u001b[0;32m----> 1\u001b[0;31m \u001b[0mcsv\u001b[0m \u001b[0;34m=\u001b[0m \u001b[0;34m[\u001b[0m\u001b[0;34m[\u001b[0m\u001b[0;34m'\\\\N'\u001b[0m \u001b[0;32mif\u001b[0m \u001b[0mcolum\u001b[0m \u001b[0;34m==\u001b[0m \u001b[0;34m''\u001b[0m \u001b[0;32melse\u001b[0m \u001b[0mcolumn\u001b[0m  \u001b[0;32mfor\u001b[0m \u001b[0mcolum\u001b[0m \u001b[0;32min\u001b[0m \u001b[0mline\u001b[0m\u001b[0;34m]\u001b[0m \u001b[0;32mfor\u001b[0m \u001b[0mline\u001b[0m \u001b[0;32min\u001b[0m \u001b[0mcsv\u001b[0m\u001b[0;34m]\u001b[0m\u001b[0;34m\u001b[0m\u001b[0;34m\u001b[0m\u001b[0m\n\u001b[0m",
            "\u001b[0;31mNameError\u001b[0m: name 'column' is not defined"
          ]
        }
      ]
    },
    {
      "cell_type": "code",
      "metadata": {
        "colab": {
          "base_uri": "https://localhost:8080/"
        },
        "id": "aj1mG6I4mnBo",
        "outputId": "d196f4e3-9df2-4764-8231-26e3ec082232"
      },
      "source": [
        "[line for line in csv if not line[1].isdigit() and line[1] !='\\\\N']"
      ],
      "execution_count": 222,
      "outputs": [
        {
          "output_type": "execute_result",
          "data": {
            "text/plain": [
              "[['d', '', '14'],\n",
              " ['\\\\n', '', ''],\n",
              " ['c', '', \"'14'\"],\n",
              " ['\\\\n', '', ''],\n",
              " ['\\\\n', '', ''],\n",
              " ['\\\\n', '', ''],\n",
              " ['\\\\n', '\\\\n', '\\\\n'],\n",
              " ['a', \"'\\\\n'\", \"'15'\"]]"
            ]
          },
          "metadata": {
            "tags": []
          },
          "execution_count": 222
        }
      ]
    },
    {
      "cell_type": "code",
      "metadata": {
        "colab": {
          "base_uri": "https://localhost:8080/"
        },
        "id": "pu5uHiaRm-RQ",
        "outputId": "b9a88359-6519-4ee7-b7f2-e9a1d8202a7e"
      },
      "source": [
        "text = [','.join(line) for line in csv]\r\n",
        "text = [line.replace(\"'\\\\N\", \"\\\\N\") for line in text]\r\n",
        "csv = [line.split(',') for line in text]\r\n",
        "csv"
      ],
      "execution_count": 223,
      "outputs": [
        {
          "output_type": "execute_result",
          "data": {
            "text/plain": [
              "[['b', '1', '12'],\n",
              " ['a', '2', '13'],\n",
              " ['d', '', '14'],\n",
              " ['\\\\n', '\\\\N', '15'],\n",
              " ['\\\\n', '', ''],\n",
              " ['\\\\n', '3', '\\\\n'],\n",
              " ['a', '1', '12'],\n",
              " ['b', '2', '13'],\n",
              " ['c', '', \"'14'\"],\n",
              " ['\\\\n', '\\\\N', '15'],\n",
              " ['a', '\\\\N', \"'0'\"],\n",
              " ['\\\\n', '', ''],\n",
              " ['\\\\n', '', ''],\n",
              " ['\\\\n', '', ''],\n",
              " ['a', '0', '0'],\n",
              " ['\\\\n', '\\\\n', '\\\\n'],\n",
              " ['b', '1', '12'],\n",
              " ['a', '4', '13'],\n",
              " ['a', '3', '13'],\n",
              " ['c', '3', '17'],\n",
              " ['a', \"'\\\\n'\", \"'15'\"],\n",
              " ['\\\\n', '2', '0']]"
            ]
          },
          "metadata": {
            "tags": []
          },
          "execution_count": 223
        }
      ]
    },
    {
      "cell_type": "code",
      "metadata": {
        "colab": {
          "base_uri": "https://localhost:8080/"
        },
        "id": "JJ54kP6kn9Vn",
        "outputId": "2ea85d2a-bbb9-4e23-a670-f888a90a59f5"
      },
      "source": [
        "[line for line in csv if not line[2].isdigit() and line[2] !='\\\\N']"
      ],
      "execution_count": 225,
      "outputs": [
        {
          "output_type": "execute_result",
          "data": {
            "text/plain": [
              "[['\\\\n', '', ''],\n",
              " ['\\\\n', '3', '\\\\n'],\n",
              " ['c', '', \"'14'\"],\n",
              " ['a', '\\\\N', \"'0'\"],\n",
              " ['\\\\n', '', ''],\n",
              " ['\\\\n', '', ''],\n",
              " ['\\\\n', '', ''],\n",
              " ['\\\\n', '\\\\n', '\\\\n'],\n",
              " ['a', \"'\\\\n'\", \"'15'\"]]"
            ]
          },
          "metadata": {
            "tags": []
          },
          "execution_count": 225
        }
      ]
    },
    {
      "cell_type": "code",
      "metadata": {
        "colab": {
          "base_uri": "https://localhost:8080/",
          "height": 214
        },
        "id": "CRXWxcWBoKCI",
        "outputId": "1a7a4282-f8bc-4087-db40-4361ff689bdc"
      },
      "source": [
        "csv = [line[:2] + [line[2][1:-1]] if (line[2][0] == \"'\" and line[2] != '\\\\N')  else line for line in csv ]"
      ],
      "execution_count": 226,
      "outputs": [
        {
          "output_type": "error",
          "ename": "IndexError",
          "evalue": "ignored",
          "traceback": [
            "\u001b[0;31m---------------------------------------------------------------------------\u001b[0m",
            "\u001b[0;31mIndexError\u001b[0m                                Traceback (most recent call last)",
            "\u001b[0;32m<ipython-input-226-99ebd23c991c>\u001b[0m in \u001b[0;36m<module>\u001b[0;34m()\u001b[0m\n\u001b[0;32m----> 1\u001b[0;31m \u001b[0mcsv\u001b[0m \u001b[0;34m=\u001b[0m \u001b[0;34m[\u001b[0m\u001b[0mline\u001b[0m\u001b[0;34m[\u001b[0m\u001b[0;34m:\u001b[0m\u001b[0;36m2\u001b[0m\u001b[0;34m]\u001b[0m \u001b[0;34m+\u001b[0m \u001b[0;34m[\u001b[0m\u001b[0mline\u001b[0m\u001b[0;34m[\u001b[0m\u001b[0;36m2\u001b[0m\u001b[0;34m]\u001b[0m\u001b[0;34m[\u001b[0m\u001b[0;36m1\u001b[0m\u001b[0;34m:\u001b[0m\u001b[0;34m-\u001b[0m\u001b[0;36m1\u001b[0m\u001b[0;34m]\u001b[0m\u001b[0;34m]\u001b[0m \u001b[0;32mif\u001b[0m \u001b[0;34m(\u001b[0m\u001b[0mline\u001b[0m\u001b[0;34m[\u001b[0m\u001b[0;36m2\u001b[0m\u001b[0;34m]\u001b[0m\u001b[0;34m[\u001b[0m\u001b[0;36m0\u001b[0m\u001b[0;34m]\u001b[0m \u001b[0;34m==\u001b[0m \u001b[0;34m\"'\"\u001b[0m \u001b[0;32mand\u001b[0m \u001b[0mline\u001b[0m\u001b[0;34m[\u001b[0m\u001b[0;36m2\u001b[0m\u001b[0;34m]\u001b[0m \u001b[0;34m!=\u001b[0m \u001b[0;34m'\\\\N'\u001b[0m\u001b[0;34m)\u001b[0m  \u001b[0;32melse\u001b[0m \u001b[0mline\u001b[0m \u001b[0;32mfor\u001b[0m \u001b[0mline\u001b[0m \u001b[0;32min\u001b[0m \u001b[0mcsv\u001b[0m \u001b[0;34m]\u001b[0m\u001b[0;34m\u001b[0m\u001b[0;34m\u001b[0m\u001b[0m\n\u001b[0m",
            "\u001b[0;32m<ipython-input-226-99ebd23c991c>\u001b[0m in \u001b[0;36m<listcomp>\u001b[0;34m(.0)\u001b[0m\n\u001b[0;32m----> 1\u001b[0;31m \u001b[0mcsv\u001b[0m \u001b[0;34m=\u001b[0m \u001b[0;34m[\u001b[0m\u001b[0mline\u001b[0m\u001b[0;34m[\u001b[0m\u001b[0;34m:\u001b[0m\u001b[0;36m2\u001b[0m\u001b[0;34m]\u001b[0m \u001b[0;34m+\u001b[0m \u001b[0;34m[\u001b[0m\u001b[0mline\u001b[0m\u001b[0;34m[\u001b[0m\u001b[0;36m2\u001b[0m\u001b[0;34m]\u001b[0m\u001b[0;34m[\u001b[0m\u001b[0;36m1\u001b[0m\u001b[0;34m:\u001b[0m\u001b[0;34m-\u001b[0m\u001b[0;36m1\u001b[0m\u001b[0;34m]\u001b[0m\u001b[0;34m]\u001b[0m \u001b[0;32mif\u001b[0m \u001b[0;34m(\u001b[0m\u001b[0mline\u001b[0m\u001b[0;34m[\u001b[0m\u001b[0;36m2\u001b[0m\u001b[0;34m]\u001b[0m\u001b[0;34m[\u001b[0m\u001b[0;36m0\u001b[0m\u001b[0;34m]\u001b[0m \u001b[0;34m==\u001b[0m \u001b[0;34m\"'\"\u001b[0m \u001b[0;32mand\u001b[0m \u001b[0mline\u001b[0m\u001b[0;34m[\u001b[0m\u001b[0;36m2\u001b[0m\u001b[0;34m]\u001b[0m \u001b[0;34m!=\u001b[0m \u001b[0;34m'\\\\N'\u001b[0m\u001b[0;34m)\u001b[0m  \u001b[0;32melse\u001b[0m \u001b[0mline\u001b[0m \u001b[0;32mfor\u001b[0m \u001b[0mline\u001b[0m \u001b[0;32min\u001b[0m \u001b[0mcsv\u001b[0m \u001b[0;34m]\u001b[0m\u001b[0;34m\u001b[0m\u001b[0;34m\u001b[0m\u001b[0m\n\u001b[0m",
            "\u001b[0;31mIndexError\u001b[0m: string index out of range"
          ]
        }
      ]
    },
    {
      "cell_type": "code",
      "metadata": {
        "id": "sevoLbwHowio"
      },
      "source": [
        ""
      ],
      "execution_count": null,
      "outputs": []
    },
    {
      "cell_type": "code",
      "metadata": {
        "colab": {
          "base_uri": "https://localhost:8080/",
          "height": 35
        },
        "id": "T0XTJa3Go1YF",
        "outputId": "e316e582-3d58-44e3-f18b-4a22d8873c56"
      },
      "source": [
        "text = '\\n'.join(text)\r\n",
        "text"
      ],
      "execution_count": 227,
      "outputs": [
        {
          "output_type": "execute_result",
          "data": {
            "application/vnd.google.colaboratory.intrinsic+json": {
              "type": "string"
            },
            "text/plain": [
              "\"b,1,12\\na,2,13\\nd,,14\\n\\\\n,\\\\N,15\\n\\\\n,,\\n\\\\n,3,\\\\n\\na,1,12\\nb,2,13\\nc,,'14'\\n\\\\n,\\\\N,15\\na,\\\\N,'0'\\n\\\\n,,\\n\\\\n,,\\n\\\\n,,\\na,0,0\\n\\\\n,\\\\n,\\\\n\\nb,1,12\\na,4,13\\na,3,13\\nc,3,17\\na,'\\\\n','15'\\n\\\\n,2,0\""
            ]
          },
          "metadata": {
            "tags": []
          },
          "execution_count": 227
        }
      ]
    },
    {
      "cell_type": "code",
      "metadata": {
        "id": "65IHZTsWo7_w"
      },
      "source": [
        "with open('summary.csv', 'w') as file:\r\n",
        "      file.write"
      ],
      "execution_count": null,
      "outputs": []
    },
    {
      "cell_type": "code",
      "metadata": {
        "id": "-DGtS2LcpN9n"
      },
      "source": [
        "!cat summary.csv"
      ],
      "execution_count": null,
      "outputs": []
    }
  ]
}